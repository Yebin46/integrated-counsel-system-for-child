{
 "cells": [
  {
   "cell_type": "code",
   "execution_count": 1,
   "metadata": {},
   "outputs": [],
   "source": [
    "import numpy as np\n",
    "import pandas as pd"
   ]
  },
  {
   "cell_type": "code",
   "execution_count": 6,
   "metadata": {},
   "outputs": [
    {
     "data": {
      "text/html": [
       "<div>\n",
       "<style scoped>\n",
       "    .dataframe tbody tr th:only-of-type {\n",
       "        vertical-align: middle;\n",
       "    }\n",
       "\n",
       "    .dataframe tbody tr th {\n",
       "        vertical-align: top;\n",
       "    }\n",
       "\n",
       "    .dataframe thead th {\n",
       "        text-align: right;\n",
       "    }\n",
       "</style>\n",
       "<table border=\"1\" class=\"dataframe\">\n",
       "  <thead>\n",
       "    <tr style=\"text-align: right;\">\n",
       "      <th></th>\n",
       "      <th>구분</th>\n",
       "      <th>유저</th>\n",
       "      <th>챗봇</th>\n",
       "    </tr>\n",
       "  </thead>\n",
       "  <tbody>\n",
       "    <tr>\n",
       "      <th>0</th>\n",
       "      <td>감정/감정조절이상</td>\n",
       "      <td>제 감정이 이상해진 것 같아요. 남편만 보면 화가 치밀어 오르고 감정 조절이 안되요.</td>\n",
       "      <td>감정이 조절이 안 될 때만큼 힘들 때는 없는 거 같아요.</td>\n",
       "    </tr>\n",
       "    <tr>\n",
       "      <th>1</th>\n",
       "      <td>감정/감정조절이상</td>\n",
       "      <td>더 이상 내 감정을 내가 컨트롤 못 하겠어.</td>\n",
       "      <td>저도 그 기분 이해해요. 많이 힘드시죠?</td>\n",
       "    </tr>\n",
       "    <tr>\n",
       "      <th>2</th>\n",
       "      <td>감정/감정조절이상</td>\n",
       "      <td>하루종일 오르락내리락 롤러코스터 타는 기분이에요.</td>\n",
       "      <td>그럴 때는 밥은 잘 먹었는지, 잠은 잘 잤는지 체크해보는 것도 좋아요.</td>\n",
       "    </tr>\n",
       "    <tr>\n",
       "      <th>3</th>\n",
       "      <td>감정/감정조절이상</td>\n",
       "      <td>꼭 롤러코스터 타는 것 같아요.</td>\n",
       "      <td>NaN</td>\n",
       "    </tr>\n",
       "    <tr>\n",
       "      <th>4</th>\n",
       "      <td>감정/감정조절이상</td>\n",
       "      <td>롤러코스터 타는 것처럼 기분이 왔다 갔다 해요.</td>\n",
       "      <td>NaN</td>\n",
       "    </tr>\n",
       "    <tr>\n",
       "      <th>...</th>\n",
       "      <td>...</td>\n",
       "      <td>...</td>\n",
       "      <td>...</td>\n",
       "    </tr>\n",
       "    <tr>\n",
       "      <th>5226</th>\n",
       "      <td>현재상태/증상지속</td>\n",
       "      <td>한숨 자고 일어나면 괜찮으려나? 해서 자고 일어났는데도 똑같아요.</td>\n",
       "      <td>NaN</td>\n",
       "    </tr>\n",
       "    <tr>\n",
       "      <th>5227</th>\n",
       "      <td>현재상태/증상지속</td>\n",
       "      <td>자고 나면 괜찮을 줄 알았는데 비슷해…</td>\n",
       "      <td>NaN</td>\n",
       "    </tr>\n",
       "    <tr>\n",
       "      <th>5228</th>\n",
       "      <td>현재상태/증상지속</td>\n",
       "      <td>지금도 상태가 계속 안 좋아.</td>\n",
       "      <td>NaN</td>\n",
       "    </tr>\n",
       "    <tr>\n",
       "      <th>5229</th>\n",
       "      <td>현재상태/증상지속</td>\n",
       "      <td>이게 제 마음과 상관없이 증상이 계속 나타나요.</td>\n",
       "      <td>NaN</td>\n",
       "    </tr>\n",
       "    <tr>\n",
       "      <th>5230</th>\n",
       "      <td>현재상태/증상지속</td>\n",
       "      <td>나이 들면 고쳐질 줄 알았는데…아직까지 계속 그래요.</td>\n",
       "      <td>NaN</td>\n",
       "    </tr>\n",
       "  </tbody>\n",
       "</table>\n",
       "<p>5231 rows × 3 columns</p>\n",
       "</div>"
      ],
      "text/plain": [
       "             구분                                               유저  \\\n",
       "0     감정/감정조절이상  제 감정이 이상해진 것 같아요. 남편만 보면 화가 치밀어 오르고 감정 조절이 안되요.   \n",
       "1     감정/감정조절이상                         더 이상 내 감정을 내가 컨트롤 못 하겠어.   \n",
       "2     감정/감정조절이상                      하루종일 오르락내리락 롤러코스터 타는 기분이에요.   \n",
       "3     감정/감정조절이상                                꼭 롤러코스터 타는 것 같아요.   \n",
       "4     감정/감정조절이상                       롤러코스터 타는 것처럼 기분이 왔다 갔다 해요.   \n",
       "...         ...                                              ...   \n",
       "5226  현재상태/증상지속             한숨 자고 일어나면 괜찮으려나? 해서 자고 일어났는데도 똑같아요.   \n",
       "5227  현재상태/증상지속                            자고 나면 괜찮을 줄 알았는데 비슷해…   \n",
       "5228  현재상태/증상지속                                 지금도 상태가 계속 안 좋아.   \n",
       "5229  현재상태/증상지속                       이게 제 마음과 상관없이 증상이 계속 나타나요.   \n",
       "5230  현재상태/증상지속                    나이 들면 고쳐질 줄 알았는데…아직까지 계속 그래요.   \n",
       "\n",
       "                                           챗봇  \n",
       "0             감정이 조절이 안 될 때만큼 힘들 때는 없는 거 같아요.  \n",
       "1                      저도 그 기분 이해해요. 많이 힘드시죠?  \n",
       "2     그럴 때는 밥은 잘 먹었는지, 잠은 잘 잤는지 체크해보는 것도 좋아요.  \n",
       "3                                         NaN  \n",
       "4                                         NaN  \n",
       "...                                       ...  \n",
       "5226                                      NaN  \n",
       "5227                                      NaN  \n",
       "5228                                      NaN  \n",
       "5229                                      NaN  \n",
       "5230                                      NaN  \n",
       "\n",
       "[5231 rows x 3 columns]"
      ]
     },
     "execution_count": 6,
     "metadata": {},
     "output_type": "execute_result"
    }
   ],
   "source": [
    "data = pd.read_excel('../../data/웰니스_대화_스크립트_데이터셋.xlsx')\n",
    "data"
   ]
  },
  {
   "cell_type": "code",
   "execution_count": 7,
   "metadata": {},
   "outputs": [
    {
     "data": {
      "text/html": [
       "<div>\n",
       "<style scoped>\n",
       "    .dataframe tbody tr th:only-of-type {\n",
       "        vertical-align: middle;\n",
       "    }\n",
       "\n",
       "    .dataframe tbody tr th {\n",
       "        vertical-align: top;\n",
       "    }\n",
       "\n",
       "    .dataframe thead th {\n",
       "        text-align: right;\n",
       "    }\n",
       "</style>\n",
       "<table border=\"1\" class=\"dataframe\">\n",
       "  <thead>\n",
       "    <tr style=\"text-align: right;\">\n",
       "      <th></th>\n",
       "      <th>유저</th>\n",
       "      <th>챗봇</th>\n",
       "    </tr>\n",
       "  </thead>\n",
       "  <tbody>\n",
       "    <tr>\n",
       "      <th>0</th>\n",
       "      <td>제 감정이 이상해진 것 같아요. 남편만 보면 화가 치밀어 오르고 감정 조절이 안되요.</td>\n",
       "      <td>감정이 조절이 안 될 때만큼 힘들 때는 없는 거 같아요.</td>\n",
       "    </tr>\n",
       "    <tr>\n",
       "      <th>1</th>\n",
       "      <td>더 이상 내 감정을 내가 컨트롤 못 하겠어.</td>\n",
       "      <td>저도 그 기분 이해해요. 많이 힘드시죠?</td>\n",
       "    </tr>\n",
       "    <tr>\n",
       "      <th>2</th>\n",
       "      <td>하루종일 오르락내리락 롤러코스터 타는 기분이에요.</td>\n",
       "      <td>그럴 때는 밥은 잘 먹었는지, 잠은 잘 잤는지 체크해보는 것도 좋아요.</td>\n",
       "    </tr>\n",
       "    <tr>\n",
       "      <th>3</th>\n",
       "      <td>꼭 롤러코스터 타는 것 같아요.</td>\n",
       "      <td>NaN</td>\n",
       "    </tr>\n",
       "    <tr>\n",
       "      <th>4</th>\n",
       "      <td>롤러코스터 타는 것처럼 기분이 왔다 갔다 해요.</td>\n",
       "      <td>NaN</td>\n",
       "    </tr>\n",
       "  </tbody>\n",
       "</table>\n",
       "</div>"
      ],
      "text/plain": [
       "                                                유저  \\\n",
       "0  제 감정이 이상해진 것 같아요. 남편만 보면 화가 치밀어 오르고 감정 조절이 안되요.   \n",
       "1                         더 이상 내 감정을 내가 컨트롤 못 하겠어.   \n",
       "2                      하루종일 오르락내리락 롤러코스터 타는 기분이에요.   \n",
       "3                                꼭 롤러코스터 타는 것 같아요.   \n",
       "4                       롤러코스터 타는 것처럼 기분이 왔다 갔다 해요.   \n",
       "\n",
       "                                        챗봇  \n",
       "0          감정이 조절이 안 될 때만큼 힘들 때는 없는 거 같아요.  \n",
       "1                   저도 그 기분 이해해요. 많이 힘드시죠?  \n",
       "2  그럴 때는 밥은 잘 먹었는지, 잠은 잘 잤는지 체크해보는 것도 좋아요.  \n",
       "3                                      NaN  \n",
       "4                                      NaN  "
      ]
     },
     "execution_count": 7,
     "metadata": {},
     "output_type": "execute_result"
    }
   ],
   "source": [
    "new_data = data[['유저','챗봇']]\n",
    "new_data.head()"
   ]
  },
  {
   "cell_type": "code",
   "execution_count": 8,
   "metadata": {},
   "outputs": [
    {
     "data": {
      "text/plain": [
       "유저       0\n",
       "챗봇    4197\n",
       "dtype: int64"
      ]
     },
     "execution_count": 8,
     "metadata": {},
     "output_type": "execute_result"
    }
   ],
   "source": [
    "new_data.isnull().sum()"
   ]
  },
  {
   "cell_type": "code",
   "execution_count": 9,
   "metadata": {},
   "outputs": [],
   "source": [
    "new_data = new_data.dropna(axis=0)"
   ]
  },
  {
   "cell_type": "code",
   "execution_count": 10,
   "metadata": {},
   "outputs": [
    {
     "data": {
      "text/plain": [
       "유저    0\n",
       "챗봇    0\n",
       "dtype: int64"
      ]
     },
     "execution_count": 10,
     "metadata": {},
     "output_type": "execute_result"
    }
   ],
   "source": [
    "new_data.isnull().sum()"
   ]
  },
  {
   "cell_type": "code",
   "execution_count": 11,
   "metadata": {},
   "outputs": [
    {
     "data": {
      "text/plain": [
       "1034"
      ]
     },
     "execution_count": 11,
     "metadata": {},
     "output_type": "execute_result"
    }
   ],
   "source": [
    "len(new_data)"
   ]
  },
  {
   "cell_type": "code",
   "execution_count": 12,
   "metadata": {},
   "outputs": [
    {
     "data": {
      "text/html": [
       "<div>\n",
       "<style scoped>\n",
       "    .dataframe tbody tr th:only-of-type {\n",
       "        vertical-align: middle;\n",
       "    }\n",
       "\n",
       "    .dataframe tbody tr th {\n",
       "        vertical-align: top;\n",
       "    }\n",
       "\n",
       "    .dataframe thead th {\n",
       "        text-align: right;\n",
       "    }\n",
       "</style>\n",
       "<table border=\"1\" class=\"dataframe\">\n",
       "  <thead>\n",
       "    <tr style=\"text-align: right;\">\n",
       "      <th></th>\n",
       "      <th>유저</th>\n",
       "      <th>챗봇</th>\n",
       "    </tr>\n",
       "  </thead>\n",
       "  <tbody>\n",
       "    <tr>\n",
       "      <th>0</th>\n",
       "      <td>제 감정이 이상해진 것 같아요. 남편만 보면 화가 치밀어 오르고 감정 조절이 안되요.</td>\n",
       "      <td>감정이 조절이 안 될 때만큼 힘들 때는 없는 거 같아요.</td>\n",
       "    </tr>\n",
       "    <tr>\n",
       "      <th>1</th>\n",
       "      <td>더 이상 내 감정을 내가 컨트롤 못 하겠어.</td>\n",
       "      <td>저도 그 기분 이해해요. 많이 힘드시죠?</td>\n",
       "    </tr>\n",
       "    <tr>\n",
       "      <th>2</th>\n",
       "      <td>하루종일 오르락내리락 롤러코스터 타는 기분이에요.</td>\n",
       "      <td>그럴 때는 밥은 잘 먹었는지, 잠은 잘 잤는지 체크해보는 것도 좋아요.</td>\n",
       "    </tr>\n",
       "    <tr>\n",
       "      <th>15</th>\n",
       "      <td>평소 다른 일을 할 때도 비슷해요. 생각한대로 안되면 화가 나고…그런 상황이 지속되...</td>\n",
       "      <td>화가 폭발할 것 같을 때는 그 자리를 피하는 것도 좋은 방법이라고 생각해요.</td>\n",
       "    </tr>\n",
       "    <tr>\n",
       "      <th>16</th>\n",
       "      <td>예전보다 화내는 게 과격해진 거 같아.</td>\n",
       "      <td>정말 힘드시겠어요. 화는 남에게도 스스로에게도 상처를 주잖아요.</td>\n",
       "    </tr>\n",
       "    <tr>\n",
       "      <th>...</th>\n",
       "      <td>...</td>\n",
       "      <td>...</td>\n",
       "    </tr>\n",
       "    <tr>\n",
       "      <th>5196</th>\n",
       "      <td>그 사람이 응급실 의사한테 뭐라고 속닥거리니까, 저보고 갑자기 응급처치 끝났다고, ...</td>\n",
       "      <td>응급실이 있어서 다행이네요. 큰 문제는 없으신 거죠?</td>\n",
       "    </tr>\n",
       "    <tr>\n",
       "      <th>5197</th>\n",
       "      <td>파편이 튀어서 그 때 저도 응급실 가서 치료 받기도 했고…</td>\n",
       "      <td>응급실에 가셨다니 정말 놀랐어요. 아무 문제 없으신가요? 걱정 되네요.</td>\n",
       "    </tr>\n",
       "    <tr>\n",
       "      <th>5213</th>\n",
       "      <td>지금 상태가 너무 안 좋아서 학교 안 나가고 있어요.</td>\n",
       "      <td>상태가 더 안 좋아지셨군요. 걱정이 되네요.</td>\n",
       "    </tr>\n",
       "    <tr>\n",
       "      <th>5214</th>\n",
       "      <td>진짜 심해진 거 같긴 해요.</td>\n",
       "      <td>정말 힘드시겠어요. 지금도 증상이 심하신가요?</td>\n",
       "    </tr>\n",
       "    <tr>\n",
       "      <th>5215</th>\n",
       "      <td>그런데 증상이 나빠진 거 같아.</td>\n",
       "      <td>너무 심하시면 병원을 다시 가보는 건 어떨까요?</td>\n",
       "    </tr>\n",
       "  </tbody>\n",
       "</table>\n",
       "<p>1034 rows × 2 columns</p>\n",
       "</div>"
      ],
      "text/plain": [
       "                                                     유저  \\\n",
       "0       제 감정이 이상해진 것 같아요. 남편만 보면 화가 치밀어 오르고 감정 조절이 안되요.   \n",
       "1                              더 이상 내 감정을 내가 컨트롤 못 하겠어.   \n",
       "2                           하루종일 오르락내리락 롤러코스터 타는 기분이에요.   \n",
       "15    평소 다른 일을 할 때도 비슷해요. 생각한대로 안되면 화가 나고…그런 상황이 지속되...   \n",
       "16                                예전보다 화내는 게 과격해진 거 같아.   \n",
       "...                                                 ...   \n",
       "5196  그 사람이 응급실 의사한테 뭐라고 속닥거리니까, 저보고 갑자기 응급처치 끝났다고, ...   \n",
       "5197                   파편이 튀어서 그 때 저도 응급실 가서 치료 받기도 했고…   \n",
       "5213                     지금 상태가 너무 안 좋아서 학교 안 나가고 있어요.    \n",
       "5214                                   진짜 심해진 거 같긴 해요.    \n",
       "5215                                 그런데 증상이 나빠진 거 같아.    \n",
       "\n",
       "                                              챗봇  \n",
       "0                감정이 조절이 안 될 때만큼 힘들 때는 없는 거 같아요.  \n",
       "1                         저도 그 기분 이해해요. 많이 힘드시죠?  \n",
       "2        그럴 때는 밥은 잘 먹었는지, 잠은 잘 잤는지 체크해보는 것도 좋아요.  \n",
       "15    화가 폭발할 것 같을 때는 그 자리를 피하는 것도 좋은 방법이라고 생각해요.  \n",
       "16           정말 힘드시겠어요. 화는 남에게도 스스로에게도 상처를 주잖아요.  \n",
       "...                                          ...  \n",
       "5196               응급실이 있어서 다행이네요. 큰 문제는 없으신 거죠?  \n",
       "5197     응급실에 가셨다니 정말 놀랐어요. 아무 문제 없으신가요? 걱정 되네요.  \n",
       "5213                    상태가 더 안 좋아지셨군요. 걱정이 되네요.  \n",
       "5214                   정말 힘드시겠어요. 지금도 증상이 심하신가요?  \n",
       "5215                  너무 심하시면 병원을 다시 가보는 건 어떨까요?  \n",
       "\n",
       "[1034 rows x 2 columns]"
      ]
     },
     "execution_count": 12,
     "metadata": {},
     "output_type": "execute_result"
    }
   ],
   "source": [
    "new_data"
   ]
  },
  {
   "cell_type": "code",
   "execution_count": null,
   "metadata": {},
   "outputs": [],
   "source": []
  },
  {
   "cell_type": "code",
   "execution_count": 13,
   "metadata": {},
   "outputs": [],
   "source": [
    "new_data.to_csv('wellness_data.txt', sep = '\\t', index = False,header= False)"
   ]
  },
  {
   "cell_type": "code",
   "execution_count": null,
   "metadata": {},
   "outputs": [],
   "source": []
  }
 ],
 "metadata": {
  "kernelspec": {
   "display_name": "Python 3",
   "language": "python",
   "name": "python3"
  },
  "language_info": {
   "codemirror_mode": {
    "name": "ipython",
    "version": 3
   },
   "file_extension": ".py",
   "mimetype": "text/x-python",
   "name": "python",
   "nbconvert_exporter": "python",
   "pygments_lexer": "ipython3",
   "version": "3.8.5"
  },
  "toc": {
   "base_numbering": 1,
   "nav_menu": {},
   "number_sections": true,
   "sideBar": true,
   "skip_h1_title": false,
   "title_cell": "Table of Contents",
   "title_sidebar": "Contents",
   "toc_cell": false,
   "toc_position": {},
   "toc_section_display": true,
   "toc_window_display": false
  }
 },
 "nbformat": 4,
 "nbformat_minor": 2
}
