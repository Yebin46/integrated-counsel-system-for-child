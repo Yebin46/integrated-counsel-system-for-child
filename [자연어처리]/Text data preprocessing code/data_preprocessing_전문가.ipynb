{
 "cells": [
  {
   "cell_type": "code",
   "execution_count": 1,
   "metadata": {
    "ExecuteTime": {
     "end_time": "2021-05-17T12:40:15.713682Z",
     "start_time": "2021-05-17T12:40:15.171929Z"
    }
   },
   "outputs": [],
   "source": [
    "import numpy as np\n",
    "import pandas as pd\n",
    "import re"
   ]
  },
  {
   "cell_type": "code",
   "execution_count": 2,
   "metadata": {
    "ExecuteTime": {
     "end_time": "2021-05-17T12:40:16.288686Z",
     "start_time": "2021-05-17T12:40:16.183624Z"
    }
   },
   "outputs": [],
   "source": [
    "data1 = pd.read_csv('../../data/result/crawling_data_권순모.csv', index_col = 0)\n",
    "data2 = pd.read_csv('../../data/result/crawling_data_김봉수.csv', index_col = 0)\n",
    "data3 = pd.read_csv('../../data/result/crawling_data_김슬기.csv', index_col = 0)\n",
    "data4 = pd.read_csv('../../data/result/crawling_data_최성환.csv', index_col = 0)\n",
    "data5 = pd.read_csv('../../data/result/crawling_data_황선희.csv', index_col = 0)"
   ]
  },
  {
   "cell_type": "code",
   "execution_count": 3,
   "metadata": {
    "ExecuteTime": {
     "end_time": "2021-05-17T12:40:17.042288Z",
     "start_time": "2021-05-17T12:40:17.006623Z"
    }
   },
   "outputs": [
    {
     "data": {
      "text/html": [
       "<div>\n",
       "<style scoped>\n",
       "    .dataframe tbody tr th:only-of-type {\n",
       "        vertical-align: middle;\n",
       "    }\n",
       "\n",
       "    .dataframe tbody tr th {\n",
       "        vertical-align: top;\n",
       "    }\n",
       "\n",
       "    .dataframe thead th {\n",
       "        text-align: right;\n",
       "    }\n",
       "</style>\n",
       "<table border=\"1\" class=\"dataframe\">\n",
       "  <thead>\n",
       "    <tr style=\"text-align: right;\">\n",
       "      <th></th>\n",
       "      <th>category</th>\n",
       "      <th>title</th>\n",
       "      <th>question</th>\n",
       "      <th>answer</th>\n",
       "    </tr>\n",
       "  </thead>\n",
       "  <tbody>\n",
       "    <tr>\n",
       "      <th>0</th>\n",
       "      <td>정신건강의학과</td>\n",
       "      <td>제 마음이 쓰레기통이 된 것 같아요.(정신건강의학과)</td>\n",
       "      <td>안녕하세요. 30살 남자 입니다.\\n최근 고민(?)이 생겨서 여쭤봅니다.\\n\\n저는...</td>\n",
       "      <td>상담에서 오는 영향은 내가 가지고 있는 경험지식과 상대의 스토리가 만나 형성되는 순...</td>\n",
       "    </tr>\n",
       "    <tr>\n",
       "      <th>1</th>\n",
       "      <td>정신건강의학과</td>\n",
       "      <td>신경증인가요..?</td>\n",
       "      <td>예전에 너무나도 뒷담화 왕따를 심하게 당해서인지\\n다수의 공간에서 10분..? 5분...</td>\n",
       "      <td>대부분의 사람들은 외부에서 들어오는 자극과 스펙들에 정신이 가있어 내면을 성찰하지 ...</td>\n",
       "    </tr>\n",
       "    <tr>\n",
       "      <th>2</th>\n",
       "      <td>정신건강의학과</td>\n",
       "      <td>정신질환은 완치할 수 있는지요</td>\n",
       "      <td>우울증이랑 강박증을 오래 앓았습니다\\n완치를 기대하긴 힘든가요?\\n완치가 안 된다면...</td>\n",
       "      <td>정신과적 약물치료와 상담 및 적절한 신체적인 운동을 통해 건강한 심신의 상태가 오래...</td>\n",
       "    </tr>\n",
       "    <tr>\n",
       "      <th>3</th>\n",
       "      <td>정신건강의학과</td>\n",
       "      <td>조현병 환자 입원</td>\n",
       "      <td>안녕하세요. 조현병 환자를 가족으로 둔 평범한 대학생입니다. 저희 집 어머니는 13...</td>\n",
       "      <td>조현병으로 인한 왜곡된 관계인식의 틀에서 세상을 바라보기 때문에 가까운 가족일수록 ...</td>\n",
       "    </tr>\n",
       "    <tr>\n",
       "      <th>4</th>\n",
       "      <td>정신건강의학과</td>\n",
       "      <td>치매 인지 ㆍ의처증인지ㆍ피해망상인지 ㆍㆍ</td>\n",
       "      <td>저희시아버지가 젊으셨을때도 어머님에대한 의처증증상이 조금잇어 예를들어 길을가다가 낮...</td>\n",
       "      <td>의처증은 치료가 힘든 망상장애의 일종인데 그 부분을 제외한 나머지 사회생활에서 큰 ...</td>\n",
       "    </tr>\n",
       "    <tr>\n",
       "      <th>...</th>\n",
       "      <td>...</td>\n",
       "      <td>...</td>\n",
       "      <td>...</td>\n",
       "      <td>...</td>\n",
       "    </tr>\n",
       "    <tr>\n",
       "      <th>555</th>\n",
       "      <td>신경과</td>\n",
       "      <td>제 행동이 건망증인가요?</td>\n",
       "      <td>제가 자꾸 깜빡깜박 잊어버리는데요... 진짜 너무 자주 깜빡잊어버려서 친구들사이에...</td>\n",
       "      <td>안녕하세요. 하이닥 네이버 지식iN 정신과 상담의 황선희 입니다.\\n 답변이 늦어서...</td>\n",
       "    </tr>\n",
       "    <tr>\n",
       "      <th>556</th>\n",
       "      <td>신경과</td>\n",
       "      <td>우울증인가요</td>\n",
       "      <td>그냥 11살 초등학생인데요..\\n어느날 제가 어떤 사람 미니홈에 들어가서 친구하자...</td>\n",
       "      <td>안녕하세요. 하이닥 네이버 지식iN 정신과 상담의 황선희 입니다.\\n 답변이 늦어서...</td>\n",
       "    </tr>\n",
       "    <tr>\n",
       "      <th>557</th>\n",
       "      <td>신경과</td>\n",
       "      <td>컴퓨터 중독 치료 방법</td>\n",
       "      <td>안녕하세요?\\n전 지금 중학교 1학년인 여자입니다.\\n제가 이렇게 글을 쓰는 건 ...</td>\n",
       "      <td>안녕하세요. 하이닥 네이버 지식iN 정신과 상담의 황선희 입니다.\\n 답변이 늦어서...</td>\n",
       "    </tr>\n",
       "    <tr>\n",
       "      <th>558</th>\n",
       "      <td>신경과</td>\n",
       "      <td>4살 틱장애</td>\n",
       "      <td>안녕하세요\\n2008년 4월생 여아입니다.\\n2010년 11월에 둘째를  낳았구요...</td>\n",
       "      <td>안녕하세요. 하이닥 네이버 지식iN 정신과 상담의 황선희 입니다.\\n 답변이 늦어서...</td>\n",
       "    </tr>\n",
       "    <tr>\n",
       "      <th>559</th>\n",
       "      <td>신경과</td>\n",
       "      <td>40개월 된 남아 심리</td>\n",
       "      <td>40개월 남아 입니다.. (아직 어린이집은 안다녀요)\\n몇가지 상담을 요청합니다\\...</td>\n",
       "      <td>안녕하세요. 하이닥-네이버 지식iN 정신과 상담의 황선희 입니다.\\n 살고 계시는 ...</td>\n",
       "    </tr>\n",
       "  </tbody>\n",
       "</table>\n",
       "<p>2000 rows × 4 columns</p>\n",
       "</div>"
      ],
      "text/plain": [
       "    category                          title  \\\n",
       "0    정신건강의학과  제 마음이 쓰레기통이 된 것 같아요.(정신건강의학과)   \n",
       "1    정신건강의학과                      신경증인가요..?   \n",
       "2    정신건강의학과               정신질환은 완치할 수 있는지요   \n",
       "3    정신건강의학과                      조현병 환자 입원   \n",
       "4    정신건강의학과         치매 인지 ㆍ의처증인지ㆍ피해망상인지 ㆍㆍ   \n",
       "..       ...                            ...   \n",
       "555      신경과                  제 행동이 건망증인가요?   \n",
       "556      신경과                         우울증인가요   \n",
       "557      신경과                   컴퓨터 중독 치료 방법   \n",
       "558      신경과                         4살 틱장애   \n",
       "559      신경과                   40개월 된 남아 심리   \n",
       "\n",
       "                                              question  \\\n",
       "0    안녕하세요. 30살 남자 입니다.\\n최근 고민(?)이 생겨서 여쭤봅니다.\\n\\n저는...   \n",
       "1    예전에 너무나도 뒷담화 왕따를 심하게 당해서인지\\n다수의 공간에서 10분..? 5분...   \n",
       "2    우울증이랑 강박증을 오래 앓았습니다\\n완치를 기대하긴 힘든가요?\\n완치가 안 된다면...   \n",
       "3    안녕하세요. 조현병 환자를 가족으로 둔 평범한 대학생입니다. 저희 집 어머니는 13...   \n",
       "4    저희시아버지가 젊으셨을때도 어머님에대한 의처증증상이 조금잇어 예를들어 길을가다가 낮...   \n",
       "..                                                 ...   \n",
       "555   제가 자꾸 깜빡깜박 잊어버리는데요... 진짜 너무 자주 깜빡잊어버려서 친구들사이에...   \n",
       "556   그냥 11살 초등학생인데요..\\n어느날 제가 어떤 사람 미니홈에 들어가서 친구하자...   \n",
       "557   안녕하세요?\\n전 지금 중학교 1학년인 여자입니다.\\n제가 이렇게 글을 쓰는 건 ...   \n",
       "558   안녕하세요\\n2008년 4월생 여아입니다.\\n2010년 11월에 둘째를  낳았구요...   \n",
       "559   40개월 남아 입니다.. (아직 어린이집은 안다녀요)\\n몇가지 상담을 요청합니다\\...   \n",
       "\n",
       "                                                answer  \n",
       "0    상담에서 오는 영향은 내가 가지고 있는 경험지식과 상대의 스토리가 만나 형성되는 순...  \n",
       "1    대부분의 사람들은 외부에서 들어오는 자극과 스펙들에 정신이 가있어 내면을 성찰하지 ...  \n",
       "2    정신과적 약물치료와 상담 및 적절한 신체적인 운동을 통해 건강한 심신의 상태가 오래...  \n",
       "3    조현병으로 인한 왜곡된 관계인식의 틀에서 세상을 바라보기 때문에 가까운 가족일수록 ...  \n",
       "4    의처증은 치료가 힘든 망상장애의 일종인데 그 부분을 제외한 나머지 사회생활에서 큰 ...  \n",
       "..                                                 ...  \n",
       "555  안녕하세요. 하이닥 네이버 지식iN 정신과 상담의 황선희 입니다.\\n 답변이 늦어서...  \n",
       "556  안녕하세요. 하이닥 네이버 지식iN 정신과 상담의 황선희 입니다.\\n 답변이 늦어서...  \n",
       "557  안녕하세요. 하이닥 네이버 지식iN 정신과 상담의 황선희 입니다.\\n 답변이 늦어서...  \n",
       "558  안녕하세요. 하이닥 네이버 지식iN 정신과 상담의 황선희 입니다.\\n 답변이 늦어서...  \n",
       "559  안녕하세요. 하이닥-네이버 지식iN 정신과 상담의 황선희 입니다.\\n 살고 계시는 ...  \n",
       "\n",
       "[2000 rows x 4 columns]"
      ]
     },
     "execution_count": 3,
     "metadata": {},
     "output_type": "execute_result"
    }
   ],
   "source": [
    "data = pd.concat([data1,data2,data3,data4,data5])\n",
    "data"
   ]
  },
  {
   "cell_type": "code",
   "execution_count": 4,
   "metadata": {
    "ExecuteTime": {
     "end_time": "2021-05-17T12:40:18.614854Z",
     "start_time": "2021-05-17T12:40:18.609379Z"
    }
   },
   "outputs": [
    {
     "data": {
      "text/plain": [
       "2000"
      ]
     },
     "execution_count": 4,
     "metadata": {},
     "output_type": "execute_result"
    }
   ],
   "source": [
    "len(data)"
   ]
  },
  {
   "cell_type": "code",
   "execution_count": 5,
   "metadata": {
    "ExecuteTime": {
     "end_time": "2021-05-17T12:40:19.334623Z",
     "start_time": "2021-05-17T12:40:19.315030Z"
    }
   },
   "outputs": [
    {
     "data": {
      "text/html": [
       "<div>\n",
       "<style scoped>\n",
       "    .dataframe tbody tr th:only-of-type {\n",
       "        vertical-align: middle;\n",
       "    }\n",
       "\n",
       "    .dataframe tbody tr th {\n",
       "        vertical-align: top;\n",
       "    }\n",
       "\n",
       "    .dataframe thead th {\n",
       "        text-align: right;\n",
       "    }\n",
       "</style>\n",
       "<table border=\"1\" class=\"dataframe\">\n",
       "  <thead>\n",
       "    <tr style=\"text-align: right;\">\n",
       "      <th></th>\n",
       "      <th>title</th>\n",
       "      <th>question</th>\n",
       "      <th>answer</th>\n",
       "    </tr>\n",
       "  </thead>\n",
       "  <tbody>\n",
       "    <tr>\n",
       "      <th>0</th>\n",
       "      <td>제 마음이 쓰레기통이 된 것 같아요.(정신건강의학과)</td>\n",
       "      <td>안녕하세요. 30살 남자 입니다.\\n최근 고민(?)이 생겨서 여쭤봅니다.\\n\\n저는...</td>\n",
       "      <td>상담에서 오는 영향은 내가 가지고 있는 경험지식과 상대의 스토리가 만나 형성되는 순...</td>\n",
       "    </tr>\n",
       "    <tr>\n",
       "      <th>1</th>\n",
       "      <td>신경증인가요..?</td>\n",
       "      <td>예전에 너무나도 뒷담화 왕따를 심하게 당해서인지\\n다수의 공간에서 10분..? 5분...</td>\n",
       "      <td>대부분의 사람들은 외부에서 들어오는 자극과 스펙들에 정신이 가있어 내면을 성찰하지 ...</td>\n",
       "    </tr>\n",
       "    <tr>\n",
       "      <th>2</th>\n",
       "      <td>정신질환은 완치할 수 있는지요</td>\n",
       "      <td>우울증이랑 강박증을 오래 앓았습니다\\n완치를 기대하긴 힘든가요?\\n완치가 안 된다면...</td>\n",
       "      <td>정신과적 약물치료와 상담 및 적절한 신체적인 운동을 통해 건강한 심신의 상태가 오래...</td>\n",
       "    </tr>\n",
       "    <tr>\n",
       "      <th>3</th>\n",
       "      <td>조현병 환자 입원</td>\n",
       "      <td>안녕하세요. 조현병 환자를 가족으로 둔 평범한 대학생입니다. 저희 집 어머니는 13...</td>\n",
       "      <td>조현병으로 인한 왜곡된 관계인식의 틀에서 세상을 바라보기 때문에 가까운 가족일수록 ...</td>\n",
       "    </tr>\n",
       "    <tr>\n",
       "      <th>4</th>\n",
       "      <td>치매 인지 ㆍ의처증인지ㆍ피해망상인지 ㆍㆍ</td>\n",
       "      <td>저희시아버지가 젊으셨을때도 어머님에대한 의처증증상이 조금잇어 예를들어 길을가다가 낮...</td>\n",
       "      <td>의처증은 치료가 힘든 망상장애의 일종인데 그 부분을 제외한 나머지 사회생활에서 큰 ...</td>\n",
       "    </tr>\n",
       "  </tbody>\n",
       "</table>\n",
       "</div>"
      ],
      "text/plain": [
       "                           title  \\\n",
       "0  제 마음이 쓰레기통이 된 것 같아요.(정신건강의학과)   \n",
       "1                      신경증인가요..?   \n",
       "2               정신질환은 완치할 수 있는지요   \n",
       "3                      조현병 환자 입원   \n",
       "4         치매 인지 ㆍ의처증인지ㆍ피해망상인지 ㆍㆍ   \n",
       "\n",
       "                                            question  \\\n",
       "0  안녕하세요. 30살 남자 입니다.\\n최근 고민(?)이 생겨서 여쭤봅니다.\\n\\n저는...   \n",
       "1  예전에 너무나도 뒷담화 왕따를 심하게 당해서인지\\n다수의 공간에서 10분..? 5분...   \n",
       "2  우울증이랑 강박증을 오래 앓았습니다\\n완치를 기대하긴 힘든가요?\\n완치가 안 된다면...   \n",
       "3  안녕하세요. 조현병 환자를 가족으로 둔 평범한 대학생입니다. 저희 집 어머니는 13...   \n",
       "4  저희시아버지가 젊으셨을때도 어머님에대한 의처증증상이 조금잇어 예를들어 길을가다가 낮...   \n",
       "\n",
       "                                              answer  \n",
       "0  상담에서 오는 영향은 내가 가지고 있는 경험지식과 상대의 스토리가 만나 형성되는 순...  \n",
       "1  대부분의 사람들은 외부에서 들어오는 자극과 스펙들에 정신이 가있어 내면을 성찰하지 ...  \n",
       "2  정신과적 약물치료와 상담 및 적절한 신체적인 운동을 통해 건강한 심신의 상태가 오래...  \n",
       "3  조현병으로 인한 왜곡된 관계인식의 틀에서 세상을 바라보기 때문에 가까운 가족일수록 ...  \n",
       "4  의처증은 치료가 힘든 망상장애의 일종인데 그 부분을 제외한 나머지 사회생활에서 큰 ...  "
      ]
     },
     "execution_count": 5,
     "metadata": {},
     "output_type": "execute_result"
    }
   ],
   "source": [
    "data = data[['title','question','answer']]\n",
    "data.head()"
   ]
  },
  {
   "cell_type": "code",
   "execution_count": 6,
   "metadata": {
    "ExecuteTime": {
     "end_time": "2021-05-17T12:40:21.079115Z",
     "start_time": "2021-05-17T12:40:21.058219Z"
    }
   },
   "outputs": [
    {
     "data": {
      "text/html": [
       "<div>\n",
       "<style scoped>\n",
       "    .dataframe tbody tr th:only-of-type {\n",
       "        vertical-align: middle;\n",
       "    }\n",
       "\n",
       "    .dataframe tbody tr th {\n",
       "        vertical-align: top;\n",
       "    }\n",
       "\n",
       "    .dataframe thead th {\n",
       "        text-align: right;\n",
       "    }\n",
       "</style>\n",
       "<table border=\"1\" class=\"dataframe\">\n",
       "  <thead>\n",
       "    <tr style=\"text-align: right;\">\n",
       "      <th></th>\n",
       "      <th>title</th>\n",
       "      <th>question</th>\n",
       "      <th>answer</th>\n",
       "    </tr>\n",
       "  </thead>\n",
       "  <tbody>\n",
       "    <tr>\n",
       "      <th>0</th>\n",
       "      <td>제 마음이 쓰레기통이 된 것 같아요.(정신건강의학과)</td>\n",
       "      <td>안녕하세요. 30살 남자 입니다.\\n최근 고민(?)이 생겨서 여쭤봅니다.\\n\\n저는...</td>\n",
       "      <td>상담에서 오는 영향은 내가 가지고 있는 경험지식과 상대의 스토리가 만나 형성되는 순...</td>\n",
       "    </tr>\n",
       "    <tr>\n",
       "      <th>1</th>\n",
       "      <td>신경증인가요..?</td>\n",
       "      <td>예전에 너무나도 뒷담화 왕따를 심하게 당해서인지\\n다수의 공간에서 10분..? 5분...</td>\n",
       "      <td>대부분의 사람들은 외부에서 들어오는 자극과 스펙들에 정신이 가있어 내면을 성찰하지 ...</td>\n",
       "    </tr>\n",
       "    <tr>\n",
       "      <th>2</th>\n",
       "      <td>정신질환은 완치할 수 있는지요</td>\n",
       "      <td>우울증이랑 강박증을 오래 앓았습니다\\n완치를 기대하긴 힘든가요?\\n완치가 안 된다면...</td>\n",
       "      <td>정신과적 약물치료와 상담 및 적절한 신체적인 운동을 통해 건강한 심신의 상태가 오래...</td>\n",
       "    </tr>\n",
       "    <tr>\n",
       "      <th>3</th>\n",
       "      <td>조현병 환자 입원</td>\n",
       "      <td>안녕하세요. 조현병 환자를 가족으로 둔 평범한 대학생입니다. 저희 집 어머니는 13...</td>\n",
       "      <td>조현병으로 인한 왜곡된 관계인식의 틀에서 세상을 바라보기 때문에 가까운 가족일수록 ...</td>\n",
       "    </tr>\n",
       "    <tr>\n",
       "      <th>4</th>\n",
       "      <td>치매 인지 ㆍ의처증인지ㆍ피해망상인지 ㆍㆍ</td>\n",
       "      <td>저희시아버지가 젊으셨을때도 어머님에대한 의처증증상이 조금잇어 예를들어 길을가다가 낮...</td>\n",
       "      <td>의처증은 치료가 힘든 망상장애의 일종인데 그 부분을 제외한 나머지 사회생활에서 큰 ...</td>\n",
       "    </tr>\n",
       "    <tr>\n",
       "      <th>...</th>\n",
       "      <td>...</td>\n",
       "      <td>...</td>\n",
       "      <td>...</td>\n",
       "    </tr>\n",
       "    <tr>\n",
       "      <th>1995</th>\n",
       "      <td>제 행동이 건망증인가요?</td>\n",
       "      <td>제가 자꾸 깜빡깜박 잊어버리는데요... 진짜 너무 자주 깜빡잊어버려서 친구들사이에...</td>\n",
       "      <td>안녕하세요. 하이닥 네이버 지식iN 정신과 상담의 황선희 입니다.\\n 답변이 늦어서...</td>\n",
       "    </tr>\n",
       "    <tr>\n",
       "      <th>1996</th>\n",
       "      <td>우울증인가요</td>\n",
       "      <td>그냥 11살 초등학생인데요..\\n어느날 제가 어떤 사람 미니홈에 들어가서 친구하자...</td>\n",
       "      <td>안녕하세요. 하이닥 네이버 지식iN 정신과 상담의 황선희 입니다.\\n 답변이 늦어서...</td>\n",
       "    </tr>\n",
       "    <tr>\n",
       "      <th>1997</th>\n",
       "      <td>컴퓨터 중독 치료 방법</td>\n",
       "      <td>안녕하세요?\\n전 지금 중학교 1학년인 여자입니다.\\n제가 이렇게 글을 쓰는 건 ...</td>\n",
       "      <td>안녕하세요. 하이닥 네이버 지식iN 정신과 상담의 황선희 입니다.\\n 답변이 늦어서...</td>\n",
       "    </tr>\n",
       "    <tr>\n",
       "      <th>1998</th>\n",
       "      <td>4살 틱장애</td>\n",
       "      <td>안녕하세요\\n2008년 4월생 여아입니다.\\n2010년 11월에 둘째를  낳았구요...</td>\n",
       "      <td>안녕하세요. 하이닥 네이버 지식iN 정신과 상담의 황선희 입니다.\\n 답변이 늦어서...</td>\n",
       "    </tr>\n",
       "    <tr>\n",
       "      <th>1999</th>\n",
       "      <td>40개월 된 남아 심리</td>\n",
       "      <td>40개월 남아 입니다.. (아직 어린이집은 안다녀요)\\n몇가지 상담을 요청합니다\\...</td>\n",
       "      <td>안녕하세요. 하이닥-네이버 지식iN 정신과 상담의 황선희 입니다.\\n 살고 계시는 ...</td>\n",
       "    </tr>\n",
       "  </tbody>\n",
       "</table>\n",
       "<p>2000 rows × 3 columns</p>\n",
       "</div>"
      ],
      "text/plain": [
       "                              title  \\\n",
       "0     제 마음이 쓰레기통이 된 것 같아요.(정신건강의학과)   \n",
       "1                         신경증인가요..?   \n",
       "2                  정신질환은 완치할 수 있는지요   \n",
       "3                         조현병 환자 입원   \n",
       "4            치매 인지 ㆍ의처증인지ㆍ피해망상인지 ㆍㆍ   \n",
       "...                             ...   \n",
       "1995                  제 행동이 건망증인가요?   \n",
       "1996                         우울증인가요   \n",
       "1997                   컴퓨터 중독 치료 방법   \n",
       "1998                         4살 틱장애   \n",
       "1999                   40개월 된 남아 심리   \n",
       "\n",
       "                                               question  \\\n",
       "0     안녕하세요. 30살 남자 입니다.\\n최근 고민(?)이 생겨서 여쭤봅니다.\\n\\n저는...   \n",
       "1     예전에 너무나도 뒷담화 왕따를 심하게 당해서인지\\n다수의 공간에서 10분..? 5분...   \n",
       "2     우울증이랑 강박증을 오래 앓았습니다\\n완치를 기대하긴 힘든가요?\\n완치가 안 된다면...   \n",
       "3     안녕하세요. 조현병 환자를 가족으로 둔 평범한 대학생입니다. 저희 집 어머니는 13...   \n",
       "4     저희시아버지가 젊으셨을때도 어머님에대한 의처증증상이 조금잇어 예를들어 길을가다가 낮...   \n",
       "...                                                 ...   \n",
       "1995   제가 자꾸 깜빡깜박 잊어버리는데요... 진짜 너무 자주 깜빡잊어버려서 친구들사이에...   \n",
       "1996   그냥 11살 초등학생인데요..\\n어느날 제가 어떤 사람 미니홈에 들어가서 친구하자...   \n",
       "1997   안녕하세요?\\n전 지금 중학교 1학년인 여자입니다.\\n제가 이렇게 글을 쓰는 건 ...   \n",
       "1998   안녕하세요\\n2008년 4월생 여아입니다.\\n2010년 11월에 둘째를  낳았구요...   \n",
       "1999   40개월 남아 입니다.. (아직 어린이집은 안다녀요)\\n몇가지 상담을 요청합니다\\...   \n",
       "\n",
       "                                                 answer  \n",
       "0     상담에서 오는 영향은 내가 가지고 있는 경험지식과 상대의 스토리가 만나 형성되는 순...  \n",
       "1     대부분의 사람들은 외부에서 들어오는 자극과 스펙들에 정신이 가있어 내면을 성찰하지 ...  \n",
       "2     정신과적 약물치료와 상담 및 적절한 신체적인 운동을 통해 건강한 심신의 상태가 오래...  \n",
       "3     조현병으로 인한 왜곡된 관계인식의 틀에서 세상을 바라보기 때문에 가까운 가족일수록 ...  \n",
       "4     의처증은 치료가 힘든 망상장애의 일종인데 그 부분을 제외한 나머지 사회생활에서 큰 ...  \n",
       "...                                                 ...  \n",
       "1995  안녕하세요. 하이닥 네이버 지식iN 정신과 상담의 황선희 입니다.\\n 답변이 늦어서...  \n",
       "1996  안녕하세요. 하이닥 네이버 지식iN 정신과 상담의 황선희 입니다.\\n 답변이 늦어서...  \n",
       "1997  안녕하세요. 하이닥 네이버 지식iN 정신과 상담의 황선희 입니다.\\n 답변이 늦어서...  \n",
       "1998  안녕하세요. 하이닥 네이버 지식iN 정신과 상담의 황선희 입니다.\\n 답변이 늦어서...  \n",
       "1999  안녕하세요. 하이닥-네이버 지식iN 정신과 상담의 황선희 입니다.\\n 살고 계시는 ...  \n",
       "\n",
       "[2000 rows x 3 columns]"
      ]
     },
     "execution_count": 6,
     "metadata": {},
     "output_type": "execute_result"
    }
   ],
   "source": [
    "data = data.reset_index(drop=True)\n",
    "data"
   ]
  },
  {
   "cell_type": "code",
   "execution_count": 7,
   "metadata": {
    "ExecuteTime": {
     "end_time": "2021-05-17T12:40:23.045634Z",
     "start_time": "2021-05-17T12:40:22.970076Z"
    }
   },
   "outputs": [],
   "source": [
    "for i in range(len(data)):\n",
    "    if data['title'][i] == 'no title':\n",
    "        data = data.drop(i)\n",
    "    elif data['question'][i] == 'no question':\n",
    "        data = data.drop(i)\n",
    "    elif data['answer'][i] == 'no answer':\n",
    "        data = data.drop(i) "
   ]
  },
  {
   "cell_type": "code",
   "execution_count": 8,
   "metadata": {
    "ExecuteTime": {
     "end_time": "2021-05-17T12:40:23.749926Z",
     "start_time": "2021-05-17T12:40:23.744771Z"
    }
   },
   "outputs": [
    {
     "data": {
      "text/plain": [
       "1954"
      ]
     },
     "execution_count": 8,
     "metadata": {},
     "output_type": "execute_result"
    }
   ],
   "source": [
    "len(data)"
   ]
  },
  {
   "cell_type": "code",
   "execution_count": 9,
   "metadata": {
    "ExecuteTime": {
     "end_time": "2021-05-17T12:40:25.437395Z",
     "start_time": "2021-05-17T12:40:25.419663Z"
    }
   },
   "outputs": [
    {
     "data": {
      "text/html": [
       "<div>\n",
       "<style scoped>\n",
       "    .dataframe tbody tr th:only-of-type {\n",
       "        vertical-align: middle;\n",
       "    }\n",
       "\n",
       "    .dataframe tbody tr th {\n",
       "        vertical-align: top;\n",
       "    }\n",
       "\n",
       "    .dataframe thead th {\n",
       "        text-align: right;\n",
       "    }\n",
       "</style>\n",
       "<table border=\"1\" class=\"dataframe\">\n",
       "  <thead>\n",
       "    <tr style=\"text-align: right;\">\n",
       "      <th></th>\n",
       "      <th>question</th>\n",
       "      <th>answer</th>\n",
       "    </tr>\n",
       "  </thead>\n",
       "  <tbody>\n",
       "    <tr>\n",
       "      <th>0</th>\n",
       "      <td>안녕하세요. 30살 남자 입니다.\\n최근 고민(?)이 생겨서 여쭤봅니다.\\n\\n저는...</td>\n",
       "      <td>상담에서 오는 영향은 내가 가지고 있는 경험지식과 상대의 스토리가 만나 형성되는 순...</td>\n",
       "    </tr>\n",
       "    <tr>\n",
       "      <th>1</th>\n",
       "      <td>예전에 너무나도 뒷담화 왕따를 심하게 당해서인지\\n다수의 공간에서 10분..? 5분...</td>\n",
       "      <td>대부분의 사람들은 외부에서 들어오는 자극과 스펙들에 정신이 가있어 내면을 성찰하지 ...</td>\n",
       "    </tr>\n",
       "    <tr>\n",
       "      <th>2</th>\n",
       "      <td>우울증이랑 강박증을 오래 앓았습니다\\n완치를 기대하긴 힘든가요?\\n완치가 안 된다면...</td>\n",
       "      <td>정신과적 약물치료와 상담 및 적절한 신체적인 운동을 통해 건강한 심신의 상태가 오래...</td>\n",
       "    </tr>\n",
       "    <tr>\n",
       "      <th>3</th>\n",
       "      <td>안녕하세요. 조현병 환자를 가족으로 둔 평범한 대학생입니다. 저희 집 어머니는 13...</td>\n",
       "      <td>조현병으로 인한 왜곡된 관계인식의 틀에서 세상을 바라보기 때문에 가까운 가족일수록 ...</td>\n",
       "    </tr>\n",
       "    <tr>\n",
       "      <th>4</th>\n",
       "      <td>저희시아버지가 젊으셨을때도 어머님에대한 의처증증상이 조금잇어 예를들어 길을가다가 낮...</td>\n",
       "      <td>의처증은 치료가 힘든 망상장애의 일종인데 그 부분을 제외한 나머지 사회생활에서 큰 ...</td>\n",
       "    </tr>\n",
       "  </tbody>\n",
       "</table>\n",
       "</div>"
      ],
      "text/plain": [
       "                                            question  \\\n",
       "0  안녕하세요. 30살 남자 입니다.\\n최근 고민(?)이 생겨서 여쭤봅니다.\\n\\n저는...   \n",
       "1  예전에 너무나도 뒷담화 왕따를 심하게 당해서인지\\n다수의 공간에서 10분..? 5분...   \n",
       "2  우울증이랑 강박증을 오래 앓았습니다\\n완치를 기대하긴 힘든가요?\\n완치가 안 된다면...   \n",
       "3  안녕하세요. 조현병 환자를 가족으로 둔 평범한 대학생입니다. 저희 집 어머니는 13...   \n",
       "4  저희시아버지가 젊으셨을때도 어머님에대한 의처증증상이 조금잇어 예를들어 길을가다가 낮...   \n",
       "\n",
       "                                              answer  \n",
       "0  상담에서 오는 영향은 내가 가지고 있는 경험지식과 상대의 스토리가 만나 형성되는 순...  \n",
       "1  대부분의 사람들은 외부에서 들어오는 자극과 스펙들에 정신이 가있어 내면을 성찰하지 ...  \n",
       "2  정신과적 약물치료와 상담 및 적절한 신체적인 운동을 통해 건강한 심신의 상태가 오래...  \n",
       "3  조현병으로 인한 왜곡된 관계인식의 틀에서 세상을 바라보기 때문에 가까운 가족일수록 ...  \n",
       "4  의처증은 치료가 힘든 망상장애의 일종인데 그 부분을 제외한 나머지 사회생활에서 큰 ...  "
      ]
     },
     "execution_count": 9,
     "metadata": {},
     "output_type": "execute_result"
    }
   ],
   "source": [
    "data = data[['question','answer']]\n",
    "data.head()"
   ]
  },
  {
   "cell_type": "code",
   "execution_count": 10,
   "metadata": {
    "ExecuteTime": {
     "end_time": "2021-05-17T12:40:26.991315Z",
     "start_time": "2021-05-17T12:40:26.971423Z"
    }
   },
   "outputs": [
    {
     "data": {
      "text/html": [
       "<div>\n",
       "<style scoped>\n",
       "    .dataframe tbody tr th:only-of-type {\n",
       "        vertical-align: middle;\n",
       "    }\n",
       "\n",
       "    .dataframe tbody tr th {\n",
       "        vertical-align: top;\n",
       "    }\n",
       "\n",
       "    .dataframe thead th {\n",
       "        text-align: right;\n",
       "    }\n",
       "</style>\n",
       "<table border=\"1\" class=\"dataframe\">\n",
       "  <thead>\n",
       "    <tr style=\"text-align: right;\">\n",
       "      <th></th>\n",
       "      <th>question</th>\n",
       "      <th>answer</th>\n",
       "    </tr>\n",
       "  </thead>\n",
       "  <tbody>\n",
       "    <tr>\n",
       "      <th>0</th>\n",
       "      <td>안녕하세요. 30살 남자 입니다.\\n최근 고민(?)이 생겨서 여쭤봅니다.\\n\\n저는...</td>\n",
       "      <td>상담에서 오는 영향은 내가 가지고 있는 경험지식과 상대의 스토리가 만나 형성되는 순...</td>\n",
       "    </tr>\n",
       "    <tr>\n",
       "      <th>1</th>\n",
       "      <td>예전에 너무나도 뒷담화 왕따를 심하게 당해서인지\\n다수의 공간에서 10분..? 5분...</td>\n",
       "      <td>대부분의 사람들은 외부에서 들어오는 자극과 스펙들에 정신이 가있어 내면을 성찰하지 ...</td>\n",
       "    </tr>\n",
       "    <tr>\n",
       "      <th>2</th>\n",
       "      <td>우울증이랑 강박증을 오래 앓았습니다\\n완치를 기대하긴 힘든가요?\\n완치가 안 된다면...</td>\n",
       "      <td>정신과적 약물치료와 상담 및 적절한 신체적인 운동을 통해 건강한 심신의 상태가 오래...</td>\n",
       "    </tr>\n",
       "    <tr>\n",
       "      <th>3</th>\n",
       "      <td>안녕하세요. 조현병 환자를 가족으로 둔 평범한 대학생입니다. 저희 집 어머니는 13...</td>\n",
       "      <td>조현병으로 인한 왜곡된 관계인식의 틀에서 세상을 바라보기 때문에 가까운 가족일수록 ...</td>\n",
       "    </tr>\n",
       "    <tr>\n",
       "      <th>4</th>\n",
       "      <td>저희시아버지가 젊으셨을때도 어머님에대한 의처증증상이 조금잇어 예를들어 길을가다가 낮...</td>\n",
       "      <td>의처증은 치료가 힘든 망상장애의 일종인데 그 부분을 제외한 나머지 사회생활에서 큰 ...</td>\n",
       "    </tr>\n",
       "    <tr>\n",
       "      <th>...</th>\n",
       "      <td>...</td>\n",
       "      <td>...</td>\n",
       "    </tr>\n",
       "    <tr>\n",
       "      <th>1949</th>\n",
       "      <td>제가 자꾸 깜빡깜박 잊어버리는데요... 진짜 너무 자주 깜빡잊어버려서 친구들사이에...</td>\n",
       "      <td>안녕하세요. 하이닥 네이버 지식iN 정신과 상담의 황선희 입니다.\\n 답변이 늦어서...</td>\n",
       "    </tr>\n",
       "    <tr>\n",
       "      <th>1950</th>\n",
       "      <td>그냥 11살 초등학생인데요..\\n어느날 제가 어떤 사람 미니홈에 들어가서 친구하자...</td>\n",
       "      <td>안녕하세요. 하이닥 네이버 지식iN 정신과 상담의 황선희 입니다.\\n 답변이 늦어서...</td>\n",
       "    </tr>\n",
       "    <tr>\n",
       "      <th>1951</th>\n",
       "      <td>안녕하세요?\\n전 지금 중학교 1학년인 여자입니다.\\n제가 이렇게 글을 쓰는 건 ...</td>\n",
       "      <td>안녕하세요. 하이닥 네이버 지식iN 정신과 상담의 황선희 입니다.\\n 답변이 늦어서...</td>\n",
       "    </tr>\n",
       "    <tr>\n",
       "      <th>1952</th>\n",
       "      <td>안녕하세요\\n2008년 4월생 여아입니다.\\n2010년 11월에 둘째를  낳았구요...</td>\n",
       "      <td>안녕하세요. 하이닥 네이버 지식iN 정신과 상담의 황선희 입니다.\\n 답변이 늦어서...</td>\n",
       "    </tr>\n",
       "    <tr>\n",
       "      <th>1953</th>\n",
       "      <td>40개월 남아 입니다.. (아직 어린이집은 안다녀요)\\n몇가지 상담을 요청합니다\\...</td>\n",
       "      <td>안녕하세요. 하이닥-네이버 지식iN 정신과 상담의 황선희 입니다.\\n 살고 계시는 ...</td>\n",
       "    </tr>\n",
       "  </tbody>\n",
       "</table>\n",
       "<p>1954 rows × 2 columns</p>\n",
       "</div>"
      ],
      "text/plain": [
       "                                               question  \\\n",
       "0     안녕하세요. 30살 남자 입니다.\\n최근 고민(?)이 생겨서 여쭤봅니다.\\n\\n저는...   \n",
       "1     예전에 너무나도 뒷담화 왕따를 심하게 당해서인지\\n다수의 공간에서 10분..? 5분...   \n",
       "2     우울증이랑 강박증을 오래 앓았습니다\\n완치를 기대하긴 힘든가요?\\n완치가 안 된다면...   \n",
       "3     안녕하세요. 조현병 환자를 가족으로 둔 평범한 대학생입니다. 저희 집 어머니는 13...   \n",
       "4     저희시아버지가 젊으셨을때도 어머님에대한 의처증증상이 조금잇어 예를들어 길을가다가 낮...   \n",
       "...                                                 ...   \n",
       "1949   제가 자꾸 깜빡깜박 잊어버리는데요... 진짜 너무 자주 깜빡잊어버려서 친구들사이에...   \n",
       "1950   그냥 11살 초등학생인데요..\\n어느날 제가 어떤 사람 미니홈에 들어가서 친구하자...   \n",
       "1951   안녕하세요?\\n전 지금 중학교 1학년인 여자입니다.\\n제가 이렇게 글을 쓰는 건 ...   \n",
       "1952   안녕하세요\\n2008년 4월생 여아입니다.\\n2010년 11월에 둘째를  낳았구요...   \n",
       "1953   40개월 남아 입니다.. (아직 어린이집은 안다녀요)\\n몇가지 상담을 요청합니다\\...   \n",
       "\n",
       "                                                 answer  \n",
       "0     상담에서 오는 영향은 내가 가지고 있는 경험지식과 상대의 스토리가 만나 형성되는 순...  \n",
       "1     대부분의 사람들은 외부에서 들어오는 자극과 스펙들에 정신이 가있어 내면을 성찰하지 ...  \n",
       "2     정신과적 약물치료와 상담 및 적절한 신체적인 운동을 통해 건강한 심신의 상태가 오래...  \n",
       "3     조현병으로 인한 왜곡된 관계인식의 틀에서 세상을 바라보기 때문에 가까운 가족일수록 ...  \n",
       "4     의처증은 치료가 힘든 망상장애의 일종인데 그 부분을 제외한 나머지 사회생활에서 큰 ...  \n",
       "...                                                 ...  \n",
       "1949  안녕하세요. 하이닥 네이버 지식iN 정신과 상담의 황선희 입니다.\\n 답변이 늦어서...  \n",
       "1950  안녕하세요. 하이닥 네이버 지식iN 정신과 상담의 황선희 입니다.\\n 답변이 늦어서...  \n",
       "1951  안녕하세요. 하이닥 네이버 지식iN 정신과 상담의 황선희 입니다.\\n 답변이 늦어서...  \n",
       "1952  안녕하세요. 하이닥 네이버 지식iN 정신과 상담의 황선희 입니다.\\n 답변이 늦어서...  \n",
       "1953  안녕하세요. 하이닥-네이버 지식iN 정신과 상담의 황선희 입니다.\\n 살고 계시는 ...  \n",
       "\n",
       "[1954 rows x 2 columns]"
      ]
     },
     "execution_count": 10,
     "metadata": {},
     "output_type": "execute_result"
    }
   ],
   "source": [
    "data = data.reset_index(drop=True)\n",
    "data"
   ]
  },
  {
   "cell_type": "code",
   "execution_count": 11,
   "metadata": {
    "ExecuteTime": {
     "end_time": "2021-05-17T12:40:28.745104Z",
     "start_time": "2021-05-17T12:40:28.738753Z"
    }
   },
   "outputs": [],
   "source": [
    "questions = data['question']\n",
    "answers = data['answer']"
   ]
  },
  {
   "cell_type": "code",
   "execution_count": 12,
   "metadata": {
    "ExecuteTime": {
     "end_time": "2021-05-17T12:40:29.670032Z",
     "start_time": "2021-05-17T12:40:29.661253Z"
    }
   },
   "outputs": [
    {
     "data": {
      "text/plain": [
       "'안녕하세요. 하이닥-네이버 지식iN 상담의 황선희 입니다.\\n 틱증상은 원하지 않는 행동이나 소리가 갑작스럽게 나고 이 현상이 1주-1달이상 지속되어야 진단이 될 수 있습니다. 질문하신 현상과 다른 원치않은 행동, 예를 들어 눈깜박임이나, 킁킁 하는 코에서 나는 소리, 기침이 계속해서 나거나 얼굴의 근육이 움직이는 현상이 있었는지 궁금합니다. 이런 현상이 있었다면 틱증상의 한가지로 볼 수 있지만 그렇지 않다면 안절부절증의 한가지 형태, 즉 스트레스에 의해서 나타나는 습관적인 ㅎ행동양상이라고 생각됩니다.\\n 힘이 들고 스트레스를 받는다면 부모님과 상의하시어 가까운 병원을 찾아서 상담을 하는 것도 좋을 것 같습니다.\\n 감사합니다.\\n  '"
      ]
     },
     "execution_count": 12,
     "metadata": {},
     "output_type": "execute_result"
    }
   ],
   "source": [
    "answers[1900]"
   ]
  },
  {
   "cell_type": "code",
   "execution_count": 13,
   "metadata": {
    "ExecuteTime": {
     "end_time": "2021-05-17T12:40:31.962057Z",
     "start_time": "2021-05-17T12:40:31.948008Z"
    }
   },
   "outputs": [],
   "source": [
    "answer_list = []\n",
    "for text in answers:\n",
    "    answer_list.append(text.split('\\n'))\n",
    "#     print(text.split('\\n'))"
   ]
  },
  {
   "cell_type": "code",
   "execution_count": 14,
   "metadata": {
    "ExecuteTime": {
     "end_time": "2021-05-17T12:40:32.843659Z",
     "start_time": "2021-05-17T12:40:32.824600Z"
    }
   },
   "outputs": [],
   "source": [
    "for ans in answer_list:\n",
    "    for text in ans:\n",
    "        if ('안녕하세요' in text) or ('감사합니다' in text) :\n",
    "            ans.remove(text)\n",
    "        "
   ]
  },
  {
   "cell_type": "code",
   "execution_count": 15,
   "metadata": {
    "ExecuteTime": {
     "end_time": "2021-05-17T12:40:34.124226Z",
     "start_time": "2021-05-17T12:40:34.108918Z"
    }
   },
   "outputs": [],
   "source": [
    "for ans in answer_list:\n",
    "    for text in ans:\n",
    "        if ('죄송' in text) :\n",
    "            ans.remove(text)"
   ]
  },
  {
   "cell_type": "code",
   "execution_count": 16,
   "metadata": {
    "ExecuteTime": {
     "end_time": "2021-05-17T12:40:35.147817Z",
     "start_time": "2021-05-17T12:40:35.133426Z"
    }
   },
   "outputs": [],
   "source": [
    "for ans in answer_list:\n",
    "    for text in ans:\n",
    "        if ('답변' in text) :\n",
    "            ans.remove(text)"
   ]
  },
  {
   "cell_type": "code",
   "execution_count": 17,
   "metadata": {
    "ExecuteTime": {
     "end_time": "2021-05-17T12:40:37.647537Z",
     "start_time": "2021-05-17T12:40:37.588667Z"
    }
   },
   "outputs": [],
   "source": [
    "for i in range(len(answer_list)):\n",
    "    for j in range(len(answer_list[i])):\n",
    "        answer_list[i][j] = re.sub('[-=+,#/\\?:^$@*\\\"※~&%ㆍ!』\\\\‘|\\(\\)\\[\\]\\<\\>`\\'》]', '', answer_list[i][j])"
   ]
  },
  {
   "cell_type": "code",
   "execution_count": 18,
   "metadata": {
    "ExecuteTime": {
     "end_time": "2021-05-17T12:40:38.653414Z",
     "start_time": "2021-05-17T12:40:38.648565Z"
    }
   },
   "outputs": [
    {
     "data": {
      "text/plain": [
       "['상담에서 오는 영향은 내가 가지고 있는 경험지식과 상대의 스토리가 만나 형성되는 순간적인 인상들이 쌓여서 점차 물드는 방식입니다.',\n",
       " '그래서 상담자가 자기분석이나 여타 어떤 방식을 통해서라도 맺혀있는 정서적 갈등들을 풀어내는 과정이 필요합니다.',\n",
       " '쓰레기통이라고 여겨지게 만든 특정한 주제들을 잘 살펴보시면 그 안에 상대의 스토리가 불러일으킨 내 안의 억압된 응어리가 있을 것입니다.']"
      ]
     },
     "execution_count": 18,
     "metadata": {},
     "output_type": "execute_result"
    }
   ],
   "source": [
    "answer_list[0]"
   ]
  },
  {
   "cell_type": "code",
   "execution_count": 19,
   "metadata": {
    "ExecuteTime": {
     "end_time": "2021-05-17T12:40:43.295155Z",
     "start_time": "2021-05-17T12:40:43.265307Z"
    }
   },
   "outputs": [],
   "source": [
    "for i in range(len(answer_list)):\n",
    "    for j in range(len(answer_list[i])):\n",
    "        if '' in answer_list[i]:\n",
    "            answer_list[i].remove('')"
   ]
  },
  {
   "cell_type": "code",
   "execution_count": 20,
   "metadata": {
    "ExecuteTime": {
     "end_time": "2021-05-17T12:40:46.014054Z",
     "start_time": "2021-05-17T12:40:45.993098Z"
    }
   },
   "outputs": [],
   "source": [
    "for i in range(len(answer_list)):\n",
    "    for j in range(len(answer_list[i])):\n",
    "        if answer_list[i][j][0] == ' ':\n",
    "            answer_list[i][j] = answer_list[i][j][1:]"
   ]
  },
  {
   "cell_type": "code",
   "execution_count": 21,
   "metadata": {
    "ExecuteTime": {
     "end_time": "2021-05-17T12:40:47.751039Z",
     "start_time": "2021-05-17T12:40:47.741933Z"
    }
   },
   "outputs": [
    {
     "data": {
      "text/plain": [
       "['공황장애는 아닙니다.',\n",
       " '기본적으로 누구나 느끼는 불안의 정도가 최근의 스트레스로 인해 갑자기 심해진 것입니다.',\n",
       " '불안한 마음을 안정시키는 것이 우선이고 스트레스를 받았던 일에 대해서는 심리상담을 통해 언어화 해보면',\n",
       " '좋을 것 같습니다.',\n",
       " '부모님과 잘 상의하셔서 심층심리상담을 한번 받아보세요.',\n",
       " '집에서 혼자 불안을 다룰때는 긴장이완법 등 인터넷에 나와있는 이완하는 방법들을 찾아봐서 심신을',\n",
       " '이완해 주는 것이 도움이 많이 됩니다.']"
      ]
     },
     "execution_count": 21,
     "metadata": {},
     "output_type": "execute_result"
    }
   ],
   "source": [
    "answer_list[500]"
   ]
  },
  {
   "cell_type": "code",
   "execution_count": 22,
   "metadata": {
    "ExecuteTime": {
     "end_time": "2021-05-17T12:40:52.232014Z",
     "start_time": "2021-05-17T12:40:52.226662Z"
    }
   },
   "outputs": [
    {
     "data": {
      "text/plain": [
       "1954"
      ]
     },
     "execution_count": 22,
     "metadata": {},
     "output_type": "execute_result"
    }
   ],
   "source": [
    "len(questions)"
   ]
  },
  {
   "cell_type": "code",
   "execution_count": 23,
   "metadata": {},
   "outputs": [
    {
     "data": {
      "text/plain": [
       "0       안녕하세요. 30살 남자 입니다.\\n최근 고민(?)이 생겨서 여쭤봅니다.\\n\\n저는...\n",
       "1       예전에 너무나도 뒷담화 왕따를 심하게 당해서인지\\n다수의 공간에서 10분..? 5분...\n",
       "2       우울증이랑 강박증을 오래 앓았습니다\\n완치를 기대하긴 힘든가요?\\n완치가 안 된다면...\n",
       "3       안녕하세요. 조현병 환자를 가족으로 둔 평범한 대학생입니다. 저희 집 어머니는 13...\n",
       "4       저희시아버지가 젊으셨을때도 어머님에대한 의처증증상이 조금잇어 예를들어 길을가다가 낮...\n",
       "                              ...                        \n",
       "1949     제가 자꾸 깜빡깜박 잊어버리는데요... 진짜 너무 자주 깜빡잊어버려서 친구들사이에...\n",
       "1950     그냥 11살 초등학생인데요..\\n어느날 제가 어떤 사람 미니홈에 들어가서 친구하자...\n",
       "1951     안녕하세요?\\n전 지금 중학교 1학년인 여자입니다.\\n제가 이렇게 글을 쓰는 건 ...\n",
       "1952     안녕하세요\\n2008년 4월생 여아입니다.\\n2010년 11월에 둘째를  낳았구요...\n",
       "1953     40개월 남아 입니다.. (아직 어린이집은 안다녀요)\\n몇가지 상담을 요청합니다\\...\n",
       "Name: question, Length: 1954, dtype: object"
      ]
     },
     "execution_count": 23,
     "metadata": {},
     "output_type": "execute_result"
    }
   ],
   "source": [
    "questions"
   ]
  },
  {
   "cell_type": "code",
   "execution_count": 24,
   "metadata": {
    "ExecuteTime": {
     "end_time": "2021-05-17T12:41:05.728100Z",
     "start_time": "2021-05-17T12:41:05.699306Z"
    }
   },
   "outputs": [
    {
     "data": {
      "text/html": [
       "<div>\n",
       "<style scoped>\n",
       "    .dataframe tbody tr th:only-of-type {\n",
       "        vertical-align: middle;\n",
       "    }\n",
       "\n",
       "    .dataframe tbody tr th {\n",
       "        vertical-align: top;\n",
       "    }\n",
       "\n",
       "    .dataframe thead th {\n",
       "        text-align: right;\n",
       "    }\n",
       "</style>\n",
       "<table border=\"1\" class=\"dataframe\">\n",
       "  <thead>\n",
       "    <tr style=\"text-align: right;\">\n",
       "      <th></th>\n",
       "      <th>question</th>\n",
       "      <th>answer</th>\n",
       "    </tr>\n",
       "  </thead>\n",
       "  <tbody>\n",
       "    <tr>\n",
       "      <th>0</th>\n",
       "      <td>안녕하세요. 30살 남자 입니다. 최근 고민(?)이 생겨서 여쭤봅니다.  저는 어릴...</td>\n",
       "      <td>[상담에서 오는 영향은 내가 가지고 있는 경험지식과 상대의 스토리가 만나 형성되는 ...</td>\n",
       "    </tr>\n",
       "    <tr>\n",
       "      <th>1</th>\n",
       "      <td>예전에 너무나도 뒷담화 왕따를 심하게 당해서인지 다수의 공간에서 10분..? 5분만...</td>\n",
       "      <td>[대부분의 사람들은 외부에서 들어오는 자극과 스펙들에 정신이 가있어 내면을 성찰하지...</td>\n",
       "    </tr>\n",
       "    <tr>\n",
       "      <th>2</th>\n",
       "      <td>우울증이랑 강박증을 오래 앓았습니다 완치를 기대하긴 힘든가요? 완치가 안 된다면 꾸...</td>\n",
       "      <td>[정신과적 약물치료와 상담 및 적절한 신체적인 운동을 통해 건강한 심신의 상태가 오...</td>\n",
       "    </tr>\n",
       "    <tr>\n",
       "      <th>3</th>\n",
       "      <td>안녕하세요. 조현병 환자를 가족으로 둔 평범한 대학생입니다. 저희 집 어머니는 13...</td>\n",
       "      <td>[조현병으로 인한 왜곡된 관계인식의 틀에서 세상을 바라보기 때문에 가까운 가족일수록...</td>\n",
       "    </tr>\n",
       "    <tr>\n",
       "      <th>4</th>\n",
       "      <td>저희시아버지가 젊으셨을때도 어머님에대한 의처증증상이 조금잇어 예를들어 길을가다가 낮...</td>\n",
       "      <td>[의처증은 치료가 힘든 망상장애의 일종인데 그 부분을 제외한 나머지 사회생활에서 큰...</td>\n",
       "    </tr>\n",
       "  </tbody>\n",
       "</table>\n",
       "</div>"
      ],
      "text/plain": [
       "                                            question  \\\n",
       "0  안녕하세요. 30살 남자 입니다. 최근 고민(?)이 생겨서 여쭤봅니다.  저는 어릴...   \n",
       "1  예전에 너무나도 뒷담화 왕따를 심하게 당해서인지 다수의 공간에서 10분..? 5분만...   \n",
       "2  우울증이랑 강박증을 오래 앓았습니다 완치를 기대하긴 힘든가요? 완치가 안 된다면 꾸...   \n",
       "3  안녕하세요. 조현병 환자를 가족으로 둔 평범한 대학생입니다. 저희 집 어머니는 13...   \n",
       "4  저희시아버지가 젊으셨을때도 어머님에대한 의처증증상이 조금잇어 예를들어 길을가다가 낮...   \n",
       "\n",
       "                                              answer  \n",
       "0  [상담에서 오는 영향은 내가 가지고 있는 경험지식과 상대의 스토리가 만나 형성되는 ...  \n",
       "1  [대부분의 사람들은 외부에서 들어오는 자극과 스펙들에 정신이 가있어 내면을 성찰하지...  \n",
       "2  [정신과적 약물치료와 상담 및 적절한 신체적인 운동을 통해 건강한 심신의 상태가 오...  \n",
       "3  [조현병으로 인한 왜곡된 관계인식의 틀에서 세상을 바라보기 때문에 가까운 가족일수록...  \n",
       "4  [의처증은 치료가 힘든 망상장애의 일종인데 그 부분을 제외한 나머지 사회생활에서 큰...  "
      ]
     },
     "execution_count": 24,
     "metadata": {},
     "output_type": "execute_result"
    }
   ],
   "source": [
    "new_data = pd.DataFrame(data = {'question': questions, 'answer' : answer_list}, columns = ['question', 'answer'])\n",
    "new_data.head()"
   ]
  },
  {
   "cell_type": "code",
   "execution_count": 25,
   "metadata": {
    "ExecuteTime": {
     "end_time": "2021-05-17T12:41:08.852215Z",
     "start_time": "2021-05-17T12:41:08.830119Z"
    }
   },
   "outputs": [
    {
     "data": {
      "text/html": [
       "<div>\n",
       "<style scoped>\n",
       "    .dataframe tbody tr th:only-of-type {\n",
       "        vertical-align: middle;\n",
       "    }\n",
       "\n",
       "    .dataframe tbody tr th {\n",
       "        vertical-align: top;\n",
       "    }\n",
       "\n",
       "    .dataframe thead th {\n",
       "        text-align: right;\n",
       "    }\n",
       "</style>\n",
       "<table border=\"1\" class=\"dataframe\">\n",
       "  <thead>\n",
       "    <tr style=\"text-align: right;\">\n",
       "      <th></th>\n",
       "      <th>question</th>\n",
       "      <th>answer</th>\n",
       "    </tr>\n",
       "  </thead>\n",
       "  <tbody>\n",
       "    <tr>\n",
       "      <th>0</th>\n",
       "      <td>안녕하세요. 30살 남자 입니다. 최근 고민(?)이 생겨서 여쭤봅니다.  저는 어릴...</td>\n",
       "      <td>[상담에서 오는 영향은 내가 가지고 있는 경험지식과 상대의 스토리가 만나 형성되는 ...</td>\n",
       "    </tr>\n",
       "    <tr>\n",
       "      <th>1</th>\n",
       "      <td>예전에 너무나도 뒷담화 왕따를 심하게 당해서인지 다수의 공간에서 10분..? 5분만...</td>\n",
       "      <td>[대부분의 사람들은 외부에서 들어오는 자극과 스펙들에 정신이 가있어 내면을 성찰하지...</td>\n",
       "    </tr>\n",
       "    <tr>\n",
       "      <th>2</th>\n",
       "      <td>우울증이랑 강박증을 오래 앓았습니다 완치를 기대하긴 힘든가요? 완치가 안 된다면 꾸...</td>\n",
       "      <td>[정신과적 약물치료와 상담 및 적절한 신체적인 운동을 통해 건강한 심신의 상태가 오...</td>\n",
       "    </tr>\n",
       "    <tr>\n",
       "      <th>3</th>\n",
       "      <td>안녕하세요. 조현병 환자를 가족으로 둔 평범한 대학생입니다. 저희 집 어머니는 13...</td>\n",
       "      <td>[조현병으로 인한 왜곡된 관계인식의 틀에서 세상을 바라보기 때문에 가까운 가족일수록...</td>\n",
       "    </tr>\n",
       "    <tr>\n",
       "      <th>4</th>\n",
       "      <td>저희시아버지가 젊으셨을때도 어머님에대한 의처증증상이 조금잇어 예를들어 길을가다가 낮...</td>\n",
       "      <td>[의처증은 치료가 힘든 망상장애의 일종인데 그 부분을 제외한 나머지 사회생활에서 큰...</td>\n",
       "    </tr>\n",
       "    <tr>\n",
       "      <th>...</th>\n",
       "      <td>...</td>\n",
       "      <td>...</td>\n",
       "    </tr>\n",
       "    <tr>\n",
       "      <th>1949</th>\n",
       "      <td>제가 자꾸 깜빡깜박 잊어버리는데요... 진짜 너무 자주 깜빡잊어버려서 친구들사이에...</td>\n",
       "      <td>[건망증이라고 하는 것은 기억력의 일시적인 문제입니다. 이 문제가 어린 나이에 생기...</td>\n",
       "    </tr>\n",
       "    <tr>\n",
       "      <th>1950</th>\n",
       "      <td>그냥 11살 초등학생인데요..\\n어느날 제가 어떤 사람 미니홈에 들어가서 친구하자...</td>\n",
       "      <td>[원하지도 않고 생각도 안한 욕을 들었다면 누구라도 님과 같은 생각을 했을 것입니다...</td>\n",
       "    </tr>\n",
       "    <tr>\n",
       "      <th>1951</th>\n",
       "      <td>안녕하세요?\\n전 지금 중학교 1학년인 여자입니다.\\n제가 이렇게 글을 쓰는 건 ...</td>\n",
       "      <td>[인간을 위해서 만들어낸 컴이 인간을 노예화하는 것은 문제이기에 님의 노력이 성공하...</td>\n",
       "    </tr>\n",
       "    <tr>\n",
       "      <th>1952</th>\n",
       "      <td>안녕하세요\\n2008년 4월생 여아입니다.\\n2010년 11월에 둘째를  낳았구요...</td>\n",
       "      <td>[현재 나이상으로 치료는 놀이치료와 같은 형태의 상담치료가 도움이 될 것 같습니다....</td>\n",
       "    </tr>\n",
       "    <tr>\n",
       "      <th>1953</th>\n",
       "      <td>40개월 남아 입니다.. (아직 어린이집은 안다녀요)\\n몇가지 상담을 요청합니다\\...</td>\n",
       "      <td>[살고 계시는 곳이 어딘지 모르겠지만 이 문제는 직접 아이를 면담하고 관찰하면서 말...</td>\n",
       "    </tr>\n",
       "  </tbody>\n",
       "</table>\n",
       "<p>1954 rows × 2 columns</p>\n",
       "</div>"
      ],
      "text/plain": [
       "                                               question  \\\n",
       "0     안녕하세요. 30살 남자 입니다. 최근 고민(?)이 생겨서 여쭤봅니다.  저는 어릴...   \n",
       "1     예전에 너무나도 뒷담화 왕따를 심하게 당해서인지 다수의 공간에서 10분..? 5분만...   \n",
       "2     우울증이랑 강박증을 오래 앓았습니다 완치를 기대하긴 힘든가요? 완치가 안 된다면 꾸...   \n",
       "3     안녕하세요. 조현병 환자를 가족으로 둔 평범한 대학생입니다. 저희 집 어머니는 13...   \n",
       "4     저희시아버지가 젊으셨을때도 어머님에대한 의처증증상이 조금잇어 예를들어 길을가다가 낮...   \n",
       "...                                                 ...   \n",
       "1949   제가 자꾸 깜빡깜박 잊어버리는데요... 진짜 너무 자주 깜빡잊어버려서 친구들사이에...   \n",
       "1950   그냥 11살 초등학생인데요..\\n어느날 제가 어떤 사람 미니홈에 들어가서 친구하자...   \n",
       "1951   안녕하세요?\\n전 지금 중학교 1학년인 여자입니다.\\n제가 이렇게 글을 쓰는 건 ...   \n",
       "1952   안녕하세요\\n2008년 4월생 여아입니다.\\n2010년 11월에 둘째를  낳았구요...   \n",
       "1953   40개월 남아 입니다.. (아직 어린이집은 안다녀요)\\n몇가지 상담을 요청합니다\\...   \n",
       "\n",
       "                                                 answer  \n",
       "0     [상담에서 오는 영향은 내가 가지고 있는 경험지식과 상대의 스토리가 만나 형성되는 ...  \n",
       "1     [대부분의 사람들은 외부에서 들어오는 자극과 스펙들에 정신이 가있어 내면을 성찰하지...  \n",
       "2     [정신과적 약물치료와 상담 및 적절한 신체적인 운동을 통해 건강한 심신의 상태가 오...  \n",
       "3     [조현병으로 인한 왜곡된 관계인식의 틀에서 세상을 바라보기 때문에 가까운 가족일수록...  \n",
       "4     [의처증은 치료가 힘든 망상장애의 일종인데 그 부분을 제외한 나머지 사회생활에서 큰...  \n",
       "...                                                 ...  \n",
       "1949  [건망증이라고 하는 것은 기억력의 일시적인 문제입니다. 이 문제가 어린 나이에 생기...  \n",
       "1950  [원하지도 않고 생각도 안한 욕을 들었다면 누구라도 님과 같은 생각을 했을 것입니다...  \n",
       "1951  [인간을 위해서 만들어낸 컴이 인간을 노예화하는 것은 문제이기에 님의 노력이 성공하...  \n",
       "1952  [현재 나이상으로 치료는 놀이치료와 같은 형태의 상담치료가 도움이 될 것 같습니다....  \n",
       "1953  [살고 계시는 곳이 어딘지 모르겠지만 이 문제는 직접 아이를 면담하고 관찰하면서 말...  \n",
       "\n",
       "[1954 rows x 2 columns]"
      ]
     },
     "execution_count": 25,
     "metadata": {},
     "output_type": "execute_result"
    }
   ],
   "source": [
    "new_data"
   ]
  },
  {
   "cell_type": "code",
   "execution_count": 26,
   "metadata": {
    "ExecuteTime": {
     "end_time": "2021-05-17T12:41:16.569010Z",
     "start_time": "2021-05-17T12:41:16.558936Z"
    }
   },
   "outputs": [
    {
     "data": {
      "text/plain": [
       "question    1\n",
       "answer      0\n",
       "dtype: int64"
      ]
     },
     "execution_count": 26,
     "metadata": {},
     "output_type": "execute_result"
    }
   ],
   "source": [
    "new_data.isnull().sum()"
   ]
  },
  {
   "cell_type": "code",
   "execution_count": 27,
   "metadata": {
    "ExecuteTime": {
     "end_time": "2021-05-17T12:41:17.329426Z",
     "start_time": "2021-05-17T12:41:17.303927Z"
    }
   },
   "outputs": [],
   "source": [
    "new_data = new_data.dropna(axis=0)"
   ]
  },
  {
   "cell_type": "code",
   "execution_count": 28,
   "metadata": {
    "ExecuteTime": {
     "end_time": "2021-05-17T12:41:18.045646Z",
     "start_time": "2021-05-17T12:41:18.037554Z"
    }
   },
   "outputs": [
    {
     "data": {
      "text/plain": [
       "question    0\n",
       "answer      0\n",
       "dtype: int64"
      ]
     },
     "execution_count": 28,
     "metadata": {},
     "output_type": "execute_result"
    }
   ],
   "source": [
    "new_data.isnull().sum()"
   ]
  },
  {
   "cell_type": "code",
   "execution_count": 29,
   "metadata": {
    "ExecuteTime": {
     "end_time": "2021-05-17T12:41:19.453107Z",
     "start_time": "2021-05-17T12:41:19.448592Z"
    }
   },
   "outputs": [
    {
     "data": {
      "text/plain": [
       "1953"
      ]
     },
     "execution_count": 29,
     "metadata": {},
     "output_type": "execute_result"
    }
   ],
   "source": [
    "len(new_data)"
   ]
  },
  {
   "cell_type": "code",
   "execution_count": 30,
   "metadata": {
    "ExecuteTime": {
     "end_time": "2021-05-17T12:41:20.839384Z",
     "start_time": "2021-05-17T12:41:20.833484Z"
    }
   },
   "outputs": [],
   "source": [
    "new_data = new_data.reset_index(drop=True)"
   ]
  },
  {
   "cell_type": "code",
   "execution_count": 31,
   "metadata": {
    "ExecuteTime": {
     "end_time": "2021-05-17T12:41:21.607648Z",
     "start_time": "2021-05-17T12:41:21.582787Z"
    }
   },
   "outputs": [
    {
     "data": {
      "text/html": [
       "<div>\n",
       "<style scoped>\n",
       "    .dataframe tbody tr th:only-of-type {\n",
       "        vertical-align: middle;\n",
       "    }\n",
       "\n",
       "    .dataframe tbody tr th {\n",
       "        vertical-align: top;\n",
       "    }\n",
       "\n",
       "    .dataframe thead th {\n",
       "        text-align: right;\n",
       "    }\n",
       "</style>\n",
       "<table border=\"1\" class=\"dataframe\">\n",
       "  <thead>\n",
       "    <tr style=\"text-align: right;\">\n",
       "      <th></th>\n",
       "      <th>question</th>\n",
       "      <th>answer</th>\n",
       "    </tr>\n",
       "  </thead>\n",
       "  <tbody>\n",
       "    <tr>\n",
       "      <th>0</th>\n",
       "      <td>안녕하세요. 30살 남자 입니다. 최근 고민(?)이 생겨서 여쭤봅니다.  저는 어릴...</td>\n",
       "      <td>[상담에서 오는 영향은 내가 가지고 있는 경험지식과 상대의 스토리가 만나 형성되는 ...</td>\n",
       "    </tr>\n",
       "    <tr>\n",
       "      <th>1</th>\n",
       "      <td>예전에 너무나도 뒷담화 왕따를 심하게 당해서인지 다수의 공간에서 10분..? 5분만...</td>\n",
       "      <td>[대부분의 사람들은 외부에서 들어오는 자극과 스펙들에 정신이 가있어 내면을 성찰하지...</td>\n",
       "    </tr>\n",
       "    <tr>\n",
       "      <th>2</th>\n",
       "      <td>우울증이랑 강박증을 오래 앓았습니다 완치를 기대하긴 힘든가요? 완치가 안 된다면 꾸...</td>\n",
       "      <td>[정신과적 약물치료와 상담 및 적절한 신체적인 운동을 통해 건강한 심신의 상태가 오...</td>\n",
       "    </tr>\n",
       "    <tr>\n",
       "      <th>3</th>\n",
       "      <td>안녕하세요. 조현병 환자를 가족으로 둔 평범한 대학생입니다. 저희 집 어머니는 13...</td>\n",
       "      <td>[조현병으로 인한 왜곡된 관계인식의 틀에서 세상을 바라보기 때문에 가까운 가족일수록...</td>\n",
       "    </tr>\n",
       "    <tr>\n",
       "      <th>4</th>\n",
       "      <td>저희시아버지가 젊으셨을때도 어머님에대한 의처증증상이 조금잇어 예를들어 길을가다가 낮...</td>\n",
       "      <td>[의처증은 치료가 힘든 망상장애의 일종인데 그 부분을 제외한 나머지 사회생활에서 큰...</td>\n",
       "    </tr>\n",
       "    <tr>\n",
       "      <th>...</th>\n",
       "      <td>...</td>\n",
       "      <td>...</td>\n",
       "    </tr>\n",
       "    <tr>\n",
       "      <th>1948</th>\n",
       "      <td>제가 자꾸 깜빡깜박 잊어버리는데요... 진짜 너무 자주 깜빡잊어버려서 친구들사이에...</td>\n",
       "      <td>[건망증이라고 하는 것은 기억력의 일시적인 문제입니다. 이 문제가 어린 나이에 생기...</td>\n",
       "    </tr>\n",
       "    <tr>\n",
       "      <th>1949</th>\n",
       "      <td>그냥 11살 초등학생인데요..\\n어느날 제가 어떤 사람 미니홈에 들어가서 친구하자...</td>\n",
       "      <td>[원하지도 않고 생각도 안한 욕을 들었다면 누구라도 님과 같은 생각을 했을 것입니다...</td>\n",
       "    </tr>\n",
       "    <tr>\n",
       "      <th>1950</th>\n",
       "      <td>안녕하세요?\\n전 지금 중학교 1학년인 여자입니다.\\n제가 이렇게 글을 쓰는 건 ...</td>\n",
       "      <td>[인간을 위해서 만들어낸 컴이 인간을 노예화하는 것은 문제이기에 님의 노력이 성공하...</td>\n",
       "    </tr>\n",
       "    <tr>\n",
       "      <th>1951</th>\n",
       "      <td>안녕하세요\\n2008년 4월생 여아입니다.\\n2010년 11월에 둘째를  낳았구요...</td>\n",
       "      <td>[현재 나이상으로 치료는 놀이치료와 같은 형태의 상담치료가 도움이 될 것 같습니다....</td>\n",
       "    </tr>\n",
       "    <tr>\n",
       "      <th>1952</th>\n",
       "      <td>40개월 남아 입니다.. (아직 어린이집은 안다녀요)\\n몇가지 상담을 요청합니다\\...</td>\n",
       "      <td>[살고 계시는 곳이 어딘지 모르겠지만 이 문제는 직접 아이를 면담하고 관찰하면서 말...</td>\n",
       "    </tr>\n",
       "  </tbody>\n",
       "</table>\n",
       "<p>1953 rows × 2 columns</p>\n",
       "</div>"
      ],
      "text/plain": [
       "                                               question  \\\n",
       "0     안녕하세요. 30살 남자 입니다. 최근 고민(?)이 생겨서 여쭤봅니다.  저는 어릴...   \n",
       "1     예전에 너무나도 뒷담화 왕따를 심하게 당해서인지 다수의 공간에서 10분..? 5분만...   \n",
       "2     우울증이랑 강박증을 오래 앓았습니다 완치를 기대하긴 힘든가요? 완치가 안 된다면 꾸...   \n",
       "3     안녕하세요. 조현병 환자를 가족으로 둔 평범한 대학생입니다. 저희 집 어머니는 13...   \n",
       "4     저희시아버지가 젊으셨을때도 어머님에대한 의처증증상이 조금잇어 예를들어 길을가다가 낮...   \n",
       "...                                                 ...   \n",
       "1948   제가 자꾸 깜빡깜박 잊어버리는데요... 진짜 너무 자주 깜빡잊어버려서 친구들사이에...   \n",
       "1949   그냥 11살 초등학생인데요..\\n어느날 제가 어떤 사람 미니홈에 들어가서 친구하자...   \n",
       "1950   안녕하세요?\\n전 지금 중학교 1학년인 여자입니다.\\n제가 이렇게 글을 쓰는 건 ...   \n",
       "1951   안녕하세요\\n2008년 4월생 여아입니다.\\n2010년 11월에 둘째를  낳았구요...   \n",
       "1952   40개월 남아 입니다.. (아직 어린이집은 안다녀요)\\n몇가지 상담을 요청합니다\\...   \n",
       "\n",
       "                                                 answer  \n",
       "0     [상담에서 오는 영향은 내가 가지고 있는 경험지식과 상대의 스토리가 만나 형성되는 ...  \n",
       "1     [대부분의 사람들은 외부에서 들어오는 자극과 스펙들에 정신이 가있어 내면을 성찰하지...  \n",
       "2     [정신과적 약물치료와 상담 및 적절한 신체적인 운동을 통해 건강한 심신의 상태가 오...  \n",
       "3     [조현병으로 인한 왜곡된 관계인식의 틀에서 세상을 바라보기 때문에 가까운 가족일수록...  \n",
       "4     [의처증은 치료가 힘든 망상장애의 일종인데 그 부분을 제외한 나머지 사회생활에서 큰...  \n",
       "...                                                 ...  \n",
       "1948  [건망증이라고 하는 것은 기억력의 일시적인 문제입니다. 이 문제가 어린 나이에 생기...  \n",
       "1949  [원하지도 않고 생각도 안한 욕을 들었다면 누구라도 님과 같은 생각을 했을 것입니다...  \n",
       "1950  [인간을 위해서 만들어낸 컴이 인간을 노예화하는 것은 문제이기에 님의 노력이 성공하...  \n",
       "1951  [현재 나이상으로 치료는 놀이치료와 같은 형태의 상담치료가 도움이 될 것 같습니다....  \n",
       "1952  [살고 계시는 곳이 어딘지 모르겠지만 이 문제는 직접 아이를 면담하고 관찰하면서 말...  \n",
       "\n",
       "[1953 rows x 2 columns]"
      ]
     },
     "execution_count": 31,
     "metadata": {},
     "output_type": "execute_result"
    }
   ],
   "source": [
    "new_data"
   ]
  },
  {
   "cell_type": "code",
   "execution_count": 32,
   "metadata": {
    "ExecuteTime": {
     "end_time": "2021-05-17T12:41:26.932017Z",
     "start_time": "2021-05-17T12:41:26.628335Z"
    }
   },
   "outputs": [],
   "source": [
    "for i in range(len(new_data)):\n",
    "    if len(new_data['question'][i]) > 150:\n",
    "        new_data = new_data.drop(i)"
   ]
  },
  {
   "cell_type": "code",
   "execution_count": 33,
   "metadata": {
    "ExecuteTime": {
     "end_time": "2021-05-17T12:41:27.444558Z",
     "start_time": "2021-05-17T12:41:27.438816Z"
    }
   },
   "outputs": [
    {
     "data": {
      "text/plain": [
       "325"
      ]
     },
     "execution_count": 33,
     "metadata": {},
     "output_type": "execute_result"
    }
   ],
   "source": [
    "len(new_data)"
   ]
  },
  {
   "cell_type": "code",
   "execution_count": 34,
   "metadata": {
    "ExecuteTime": {
     "end_time": "2021-05-17T12:41:28.860930Z",
     "start_time": "2021-05-17T12:41:28.854832Z"
    }
   },
   "outputs": [],
   "source": [
    "new_data = new_data.reset_index(drop=True)"
   ]
  },
  {
   "cell_type": "code",
   "execution_count": 35,
   "metadata": {
    "ExecuteTime": {
     "end_time": "2021-05-17T12:41:35.014108Z",
     "start_time": "2021-05-17T12:41:34.975326Z"
    }
   },
   "outputs": [],
   "source": [
    "for i in range(len(new_data)):\n",
    "    new_data['question'][i] = new_data['question'][i].replace('\\n',' ')"
   ]
  },
  {
   "cell_type": "code",
   "execution_count": 36,
   "metadata": {
    "ExecuteTime": {
     "end_time": "2021-05-17T12:41:40.706296Z",
     "start_time": "2021-05-17T12:41:40.666240Z"
    }
   },
   "outputs": [],
   "source": [
    "for i in range(len(new_data)):\n",
    "    new_data['question'][i] = re.sub('[-=+,#/\\?:^$@*\\\"※~&%ㆍ!』\\\\‘|\\(\\)\\[\\]\\<\\>`\\'…》]', '', new_data['question'][i])"
   ]
  },
  {
   "cell_type": "code",
   "execution_count": 37,
   "metadata": {
    "ExecuteTime": {
     "end_time": "2021-05-17T12:41:41.664328Z",
     "start_time": "2021-05-17T12:41:41.659802Z"
    }
   },
   "outputs": [
    {
     "data": {
      "text/plain": [
       "325"
      ]
     },
     "execution_count": 37,
     "metadata": {},
     "output_type": "execute_result"
    }
   ],
   "source": [
    "len(new_data)"
   ]
  },
  {
   "cell_type": "code",
   "execution_count": 38,
   "metadata": {
    "ExecuteTime": {
     "end_time": "2021-05-17T12:41:43.475790Z",
     "start_time": "2021-05-17T12:41:43.451288Z"
    }
   },
   "outputs": [
    {
     "data": {
      "text/html": [
       "<div>\n",
       "<style scoped>\n",
       "    .dataframe tbody tr th:only-of-type {\n",
       "        vertical-align: middle;\n",
       "    }\n",
       "\n",
       "    .dataframe tbody tr th {\n",
       "        vertical-align: top;\n",
       "    }\n",
       "\n",
       "    .dataframe thead th {\n",
       "        text-align: right;\n",
       "    }\n",
       "</style>\n",
       "<table border=\"1\" class=\"dataframe\">\n",
       "  <thead>\n",
       "    <tr style=\"text-align: right;\">\n",
       "      <th></th>\n",
       "      <th>question</th>\n",
       "      <th>answer</th>\n",
       "    </tr>\n",
       "  </thead>\n",
       "  <tbody>\n",
       "    <tr>\n",
       "      <th>0</th>\n",
       "      <td>우울증이랑 강박증을 오래 앓았습니다 완치를 기대하긴 힘든가요 완치가 안 된다면 꾸준...</td>\n",
       "      <td>[정신과적 약물치료와 상담 및 적절한 신체적인 운동을 통해 건강한 심신의 상태가 오...</td>\n",
       "    </tr>\n",
       "    <tr>\n",
       "      <th>1</th>\n",
       "      <td>하루가멀다하고 술을마십니다.낼부터는 술안마신다고하고 그날저녁에 또 마시고 담날도 마...</td>\n",
       "      <td>[중독의 심리적 기준은 자기 스스로 얼마나 조절감을 잃었는지의 여부이고 생물학적인 ...</td>\n",
       "    </tr>\n",
       "    <tr>\n",
       "      <th>2</th>\n",
       "      <td>현재 우울증 불면증 알콜중독으로 고생을 하고 있습니다. 일반요양원에서도 정신과치료가...</td>\n",
       "      <td>[요양원은 의료기관이 아니라 치료는 외부병원에 맡기게 됩니다., 요양병원도 정신과 ...</td>\n",
       "    </tr>\n",
       "    <tr>\n",
       "      <th>3</th>\n",
       "      <td>올해 3월달부터 조현병 약물치료를 시작하였었는데 약물치료를 하니 일상생활이 힘들어져...</td>\n",
       "      <td>[조현병의 발병자체에 생물학적인 원인 이외에도 심리적인 요인과 주변환경의 영향을 중...</td>\n",
       "    </tr>\n",
       "    <tr>\n",
       "      <th>4</th>\n",
       "      <td>중학년 1학년 남자아이입니다. 또래관계와 학습에 너무 힘들어해서 정신과 진료를 받았...</td>\n",
       "      <td>[ADHD의 경우 약물치료의 효과가 일상생활에서 확연하게 나타나 주변에서도 금방 변...</td>\n",
       "    </tr>\n",
       "    <tr>\n",
       "      <th>...</th>\n",
       "      <td>...</td>\n",
       "      <td>...</td>\n",
       "    </tr>\n",
       "    <tr>\n",
       "      <th>320</th>\n",
       "      <td>틱장애인지는 모르겠는데 거이 1년이 된거 같아요 몸을 계속 떨어요 무슨일에 집중할...</td>\n",
       "      <td>[몸을 계속 떠는 것은 틱증상이라고 보기에는 어려울 것 같습니다. 만약에 틱증상이라...</td>\n",
       "    </tr>\n",
       "    <tr>\n",
       "      <th>321</th>\n",
       "      <td>아ㅠㅠ진짜 저이제중3인데 이게틱장애인가먼가는모르겠음 정소불안인가 막내생각하면서문자...</td>\n",
       "      <td>[생각 틱이라기 보다는 불안과 관련된 강박증상일 수 있습니다. 강박증상은 어떠한 행...</td>\n",
       "    </tr>\n",
       "    <tr>\n",
       "      <th>322</th>\n",
       "      <td>안녕하세요전 올해로 12살 여자아이입니다. 요즈음 제가 티비를 보거나 학교생활을 ...</td>\n",
       "      <td>[이러한 증상이 1달 이상 지속되는지 앞으로 지켜볼 상황인 듯 합니다. 만약에 한달...</td>\n",
       "    </tr>\n",
       "    <tr>\n",
       "      <th>323</th>\n",
       "      <td>올해에 6학년이 되는 남학생입니다  저번 3학년부터 시작이 되었는데요  막 윙크 ...</td>\n",
       "      <td>[틱증상이 3년정도 된 듯 합니다. 대부분의 틱증상이 아무리 오래가도 중 3전에는 ...</td>\n",
       "    </tr>\n",
       "    <tr>\n",
       "      <th>324</th>\n",
       "      <td>제동생이 좀 예전부터 눈을 깜빡거려서 안과에 갔는데 아무 이상이 없다고했는데 인터...</td>\n",
       "      <td>[동생을 생각하는 마음이 좋은 것 같습니다., 일단을 봐야하겠지만 틱증상인 것 같습...</td>\n",
       "    </tr>\n",
       "  </tbody>\n",
       "</table>\n",
       "<p>325 rows × 2 columns</p>\n",
       "</div>"
      ],
      "text/plain": [
       "                                              question  \\\n",
       "0    우울증이랑 강박증을 오래 앓았습니다 완치를 기대하긴 힘든가요 완치가 안 된다면 꾸준...   \n",
       "1    하루가멀다하고 술을마십니다.낼부터는 술안마신다고하고 그날저녁에 또 마시고 담날도 마...   \n",
       "2    현재 우울증 불면증 알콜중독으로 고생을 하고 있습니다. 일반요양원에서도 정신과치료가...   \n",
       "3    올해 3월달부터 조현병 약물치료를 시작하였었는데 약물치료를 하니 일상생활이 힘들어져...   \n",
       "4    중학년 1학년 남자아이입니다. 또래관계와 학습에 너무 힘들어해서 정신과 진료를 받았...   \n",
       "..                                                 ...   \n",
       "320   틱장애인지는 모르겠는데 거이 1년이 된거 같아요 몸을 계속 떨어요 무슨일에 집중할...   \n",
       "321   아ㅠㅠ진짜 저이제중3인데 이게틱장애인가먼가는모르겠음 정소불안인가 막내생각하면서문자...   \n",
       "322   안녕하세요전 올해로 12살 여자아이입니다. 요즈음 제가 티비를 보거나 학교생활을 ...   \n",
       "323   올해에 6학년이 되는 남학생입니다  저번 3학년부터 시작이 되었는데요  막 윙크 ...   \n",
       "324   제동생이 좀 예전부터 눈을 깜빡거려서 안과에 갔는데 아무 이상이 없다고했는데 인터...   \n",
       "\n",
       "                                                answer  \n",
       "0    [정신과적 약물치료와 상담 및 적절한 신체적인 운동을 통해 건강한 심신의 상태가 오...  \n",
       "1    [중독의 심리적 기준은 자기 스스로 얼마나 조절감을 잃었는지의 여부이고 생물학적인 ...  \n",
       "2    [요양원은 의료기관이 아니라 치료는 외부병원에 맡기게 됩니다., 요양병원도 정신과 ...  \n",
       "3    [조현병의 발병자체에 생물학적인 원인 이외에도 심리적인 요인과 주변환경의 영향을 중...  \n",
       "4    [ADHD의 경우 약물치료의 효과가 일상생활에서 확연하게 나타나 주변에서도 금방 변...  \n",
       "..                                                 ...  \n",
       "320  [몸을 계속 떠는 것은 틱증상이라고 보기에는 어려울 것 같습니다. 만약에 틱증상이라...  \n",
       "321  [생각 틱이라기 보다는 불안과 관련된 강박증상일 수 있습니다. 강박증상은 어떠한 행...  \n",
       "322  [이러한 증상이 1달 이상 지속되는지 앞으로 지켜볼 상황인 듯 합니다. 만약에 한달...  \n",
       "323  [틱증상이 3년정도 된 듯 합니다. 대부분의 틱증상이 아무리 오래가도 중 3전에는 ...  \n",
       "324  [동생을 생각하는 마음이 좋은 것 같습니다., 일단을 봐야하겠지만 틱증상인 것 같습...  \n",
       "\n",
       "[325 rows x 2 columns]"
      ]
     },
     "execution_count": 38,
     "metadata": {},
     "output_type": "execute_result"
    }
   ],
   "source": [
    "new_data = new_data.reset_index(drop=True)\n",
    "new_data"
   ]
  },
  {
   "cell_type": "code",
   "execution_count": 39,
   "metadata": {
    "ExecuteTime": {
     "end_time": "2021-05-17T12:41:47.891002Z",
     "start_time": "2021-05-17T12:41:47.886148Z"
    }
   },
   "outputs": [
    {
     "data": {
      "text/plain": [
       "['정신과적 약물치료와 상담 및 적절한 신체적인 운동을 통해 건강한 심신의 상태가 오래 지속될수록 차츰 치료적인 개입을 줄여갈 수 있습니다.',\n",
       " '강박의 경우 치료경과에 대한 부정적인 생각에 증상적으로 집착하는 부분이 있어 그런 생각에서 벗어날때까지 충분한 시간이 필요합니다.']"
      ]
     },
     "execution_count": 39,
     "metadata": {},
     "output_type": "execute_result"
    }
   ],
   "source": [
    "new_data['answer'][0]"
   ]
  },
  {
   "cell_type": "code",
   "execution_count": 40,
   "metadata": {
    "ExecuteTime": {
     "end_time": "2021-05-17T12:41:50.679652Z",
     "start_time": "2021-05-17T12:41:50.640419Z"
    }
   },
   "outputs": [],
   "source": [
    "for i in range(len(new_data)):\n",
    "    new_data['answer'][i] = ' '.join(new_data['answer'][i])"
   ]
  },
  {
   "cell_type": "code",
   "execution_count": 41,
   "metadata": {
    "ExecuteTime": {
     "end_time": "2021-05-17T12:41:52.161910Z",
     "start_time": "2021-05-17T12:41:52.144780Z"
    }
   },
   "outputs": [
    {
     "data": {
      "text/html": [
       "<div>\n",
       "<style scoped>\n",
       "    .dataframe tbody tr th:only-of-type {\n",
       "        vertical-align: middle;\n",
       "    }\n",
       "\n",
       "    .dataframe tbody tr th {\n",
       "        vertical-align: top;\n",
       "    }\n",
       "\n",
       "    .dataframe thead th {\n",
       "        text-align: right;\n",
       "    }\n",
       "</style>\n",
       "<table border=\"1\" class=\"dataframe\">\n",
       "  <thead>\n",
       "    <tr style=\"text-align: right;\">\n",
       "      <th></th>\n",
       "      <th>question</th>\n",
       "      <th>answer</th>\n",
       "    </tr>\n",
       "  </thead>\n",
       "  <tbody>\n",
       "    <tr>\n",
       "      <th>0</th>\n",
       "      <td>우울증이랑 강박증을 오래 앓았습니다 완치를 기대하긴 힘든가요 완치가 안 된다면 꾸준...</td>\n",
       "      <td>정신과적 약물치료와 상담 및 적절한 신체적인 운동을 통해 건강한 심신의 상태가 오래...</td>\n",
       "    </tr>\n",
       "    <tr>\n",
       "      <th>1</th>\n",
       "      <td>하루가멀다하고 술을마십니다.낼부터는 술안마신다고하고 그날저녁에 또 마시고 담날도 마...</td>\n",
       "      <td>중독의 심리적 기준은 자기 스스로 얼마나 조절감을 잃었는지의 여부이고 생물학적인 기...</td>\n",
       "    </tr>\n",
       "    <tr>\n",
       "      <th>2</th>\n",
       "      <td>현재 우울증 불면증 알콜중독으로 고생을 하고 있습니다. 일반요양원에서도 정신과치료가...</td>\n",
       "      <td>요양원은 의료기관이 아니라 치료는 외부병원에 맡기게 됩니다. 요양병원도 정신과 전문...</td>\n",
       "    </tr>\n",
       "    <tr>\n",
       "      <th>3</th>\n",
       "      <td>올해 3월달부터 조현병 약물치료를 시작하였었는데 약물치료를 하니 일상생활이 힘들어져...</td>\n",
       "      <td>조현병의 발병자체에 생물학적인 원인 이외에도 심리적인 요인과 주변환경의 영향을 중요...</td>\n",
       "    </tr>\n",
       "    <tr>\n",
       "      <th>4</th>\n",
       "      <td>중학년 1학년 남자아이입니다. 또래관계와 학습에 너무 힘들어해서 정신과 진료를 받았...</td>\n",
       "      <td>ADHD의 경우 약물치료의 효과가 일상생활에서 확연하게 나타나 주변에서도 금방 변화...</td>\n",
       "    </tr>\n",
       "    <tr>\n",
       "      <th>...</th>\n",
       "      <td>...</td>\n",
       "      <td>...</td>\n",
       "    </tr>\n",
       "    <tr>\n",
       "      <th>320</th>\n",
       "      <td>틱장애인지는 모르겠는데 거이 1년이 된거 같아요 몸을 계속 떨어요 무슨일에 집중할...</td>\n",
       "      <td>몸을 계속 떠는 것은 틱증상이라고 보기에는 어려울 것 같습니다. 만약에 틱증상이라고...</td>\n",
       "    </tr>\n",
       "    <tr>\n",
       "      <th>321</th>\n",
       "      <td>아ㅠㅠ진짜 저이제중3인데 이게틱장애인가먼가는모르겠음 정소불안인가 막내생각하면서문자...</td>\n",
       "      <td>생각 틱이라기 보다는 불안과 관련된 강박증상일 수 있습니다. 강박증상은 어떠한 행동...</td>\n",
       "    </tr>\n",
       "    <tr>\n",
       "      <th>322</th>\n",
       "      <td>안녕하세요전 올해로 12살 여자아이입니다. 요즈음 제가 티비를 보거나 학교생활을 ...</td>\n",
       "      <td>이러한 증상이 1달 이상 지속되는지 앞으로 지켜볼 상황인 듯 합니다. 만약에 한달이...</td>\n",
       "    </tr>\n",
       "    <tr>\n",
       "      <th>323</th>\n",
       "      <td>올해에 6학년이 되는 남학생입니다  저번 3학년부터 시작이 되었는데요  막 윙크 ...</td>\n",
       "      <td>틱증상이 3년정도 된 듯 합니다. 대부분의 틱증상이 아무리 오래가도 중 3전에는 사...</td>\n",
       "    </tr>\n",
       "    <tr>\n",
       "      <th>324</th>\n",
       "      <td>제동생이 좀 예전부터 눈을 깜빡거려서 안과에 갔는데 아무 이상이 없다고했는데 인터...</td>\n",
       "      <td>동생을 생각하는 마음이 좋은 것 같습니다. 일단을 봐야하겠지만 틱증상인 것 같습니다...</td>\n",
       "    </tr>\n",
       "  </tbody>\n",
       "</table>\n",
       "<p>325 rows × 2 columns</p>\n",
       "</div>"
      ],
      "text/plain": [
       "                                              question  \\\n",
       "0    우울증이랑 강박증을 오래 앓았습니다 완치를 기대하긴 힘든가요 완치가 안 된다면 꾸준...   \n",
       "1    하루가멀다하고 술을마십니다.낼부터는 술안마신다고하고 그날저녁에 또 마시고 담날도 마...   \n",
       "2    현재 우울증 불면증 알콜중독으로 고생을 하고 있습니다. 일반요양원에서도 정신과치료가...   \n",
       "3    올해 3월달부터 조현병 약물치료를 시작하였었는데 약물치료를 하니 일상생활이 힘들어져...   \n",
       "4    중학년 1학년 남자아이입니다. 또래관계와 학습에 너무 힘들어해서 정신과 진료를 받았...   \n",
       "..                                                 ...   \n",
       "320   틱장애인지는 모르겠는데 거이 1년이 된거 같아요 몸을 계속 떨어요 무슨일에 집중할...   \n",
       "321   아ㅠㅠ진짜 저이제중3인데 이게틱장애인가먼가는모르겠음 정소불안인가 막내생각하면서문자...   \n",
       "322   안녕하세요전 올해로 12살 여자아이입니다. 요즈음 제가 티비를 보거나 학교생활을 ...   \n",
       "323   올해에 6학년이 되는 남학생입니다  저번 3학년부터 시작이 되었는데요  막 윙크 ...   \n",
       "324   제동생이 좀 예전부터 눈을 깜빡거려서 안과에 갔는데 아무 이상이 없다고했는데 인터...   \n",
       "\n",
       "                                                answer  \n",
       "0    정신과적 약물치료와 상담 및 적절한 신체적인 운동을 통해 건강한 심신의 상태가 오래...  \n",
       "1    중독의 심리적 기준은 자기 스스로 얼마나 조절감을 잃었는지의 여부이고 생물학적인 기...  \n",
       "2    요양원은 의료기관이 아니라 치료는 외부병원에 맡기게 됩니다. 요양병원도 정신과 전문...  \n",
       "3    조현병의 발병자체에 생물학적인 원인 이외에도 심리적인 요인과 주변환경의 영향을 중요...  \n",
       "4    ADHD의 경우 약물치료의 효과가 일상생활에서 확연하게 나타나 주변에서도 금방 변화...  \n",
       "..                                                 ...  \n",
       "320  몸을 계속 떠는 것은 틱증상이라고 보기에는 어려울 것 같습니다. 만약에 틱증상이라고...  \n",
       "321  생각 틱이라기 보다는 불안과 관련된 강박증상일 수 있습니다. 강박증상은 어떠한 행동...  \n",
       "322  이러한 증상이 1달 이상 지속되는지 앞으로 지켜볼 상황인 듯 합니다. 만약에 한달이...  \n",
       "323  틱증상이 3년정도 된 듯 합니다. 대부분의 틱증상이 아무리 오래가도 중 3전에는 사...  \n",
       "324  동생을 생각하는 마음이 좋은 것 같습니다. 일단을 봐야하겠지만 틱증상인 것 같습니다...  \n",
       "\n",
       "[325 rows x 2 columns]"
      ]
     },
     "execution_count": 41,
     "metadata": {},
     "output_type": "execute_result"
    }
   ],
   "source": [
    "new_data"
   ]
  },
  {
   "cell_type": "code",
   "execution_count": 42,
   "metadata": {
    "ExecuteTime": {
     "end_time": "2021-05-17T12:42:02.846090Z",
     "start_time": "2021-05-17T12:42:02.826381Z"
    }
   },
   "outputs": [],
   "source": [
    "new_data.to_csv('전문가_new_특수문자제거.csv')"
   ]
  },
  {
   "cell_type": "code",
   "execution_count": 81,
   "metadata": {},
   "outputs": [],
   "source": [
    "new_data_question = new_data['question']\n",
    "new_data_answer = new_data['answer']\n",
    "\n",
    "new_new_question = []\n",
    "new_new_answer = []\n",
    "for i in range(len(new_data_question)):\n",
    "    for j in range(len(new_data_answer[i])):\n",
    "        new_new_question.append(new_data_question[i])\n",
    "        new_new_answer.append(new_data_answer[i][j])\n"
   ]
  },
  {
   "cell_type": "code",
   "execution_count": 82,
   "metadata": {},
   "outputs": [
    {
     "name": "stdout",
     "output_type": "stream",
     "text": [
      "2169\n",
      "2169\n"
     ]
    }
   ],
   "source": [
    "print(len(new_new_question))\n",
    "print(len(new_new_answer))"
   ]
  },
  {
   "cell_type": "code",
   "execution_count": 83,
   "metadata": {},
   "outputs": [
    {
     "data": {
      "text/html": [
       "<div>\n",
       "<style scoped>\n",
       "    .dataframe tbody tr th:only-of-type {\n",
       "        vertical-align: middle;\n",
       "    }\n",
       "\n",
       "    .dataframe tbody tr th {\n",
       "        vertical-align: top;\n",
       "    }\n",
       "\n",
       "    .dataframe thead th {\n",
       "        text-align: right;\n",
       "    }\n",
       "</style>\n",
       "<table border=\"1\" class=\"dataframe\">\n",
       "  <thead>\n",
       "    <tr style=\"text-align: right;\">\n",
       "      <th></th>\n",
       "      <th>question</th>\n",
       "      <th>answer</th>\n",
       "    </tr>\n",
       "  </thead>\n",
       "  <tbody>\n",
       "    <tr>\n",
       "      <th>0</th>\n",
       "      <td>우울증이랑 강박증을 오래 앓았습니다 완치를 기대하긴 힘든가요 완치가 안 된다면 꾸준...</td>\n",
       "      <td>정신과적 약물치료와 상담 및 적절한 신체적인 운동을 통해 건강한 심신의 상태가 오래...</td>\n",
       "    </tr>\n",
       "    <tr>\n",
       "      <th>1</th>\n",
       "      <td>우울증이랑 강박증을 오래 앓았습니다 완치를 기대하긴 힘든가요 완치가 안 된다면 꾸준...</td>\n",
       "      <td>강박의 경우 치료경과에 대한 부정적인 생각에 증상적으로 집착하는 부분이 있어 그런 ...</td>\n",
       "    </tr>\n",
       "    <tr>\n",
       "      <th>2</th>\n",
       "      <td>하루가멀다하고 술을마십니다낼부터는 술안마신다고하고 그날저녁에 또 마시고 담날도 마시...</td>\n",
       "      <td>중독의 심리적 기준은 자기 스스로 얼마나 조절감을 잃었는지의 여부이고 생물학적인 기...</td>\n",
       "    </tr>\n",
       "    <tr>\n",
       "      <th>3</th>\n",
       "      <td>하루가멀다하고 술을마십니다낼부터는 술안마신다고하고 그날저녁에 또 마시고 담날도 마시...</td>\n",
       "      <td>그 외 사회활동을 제대로 하는지와 가까운 사람들과의 대인관계상 문제 등이 기준으로 ...</td>\n",
       "    </tr>\n",
       "    <tr>\n",
       "      <th>4</th>\n",
       "      <td>하루가멀다하고 술을마십니다낼부터는 술안마신다고하고 그날저녁에 또 마시고 담날도 마시...</td>\n",
       "      <td>보다 정확한 평가는 정신건강의학과 전문의와의 대면상담이 필요합니다</td>\n",
       "    </tr>\n",
       "  </tbody>\n",
       "</table>\n",
       "</div>"
      ],
      "text/plain": [
       "                                            question  \\\n",
       "0  우울증이랑 강박증을 오래 앓았습니다 완치를 기대하긴 힘든가요 완치가 안 된다면 꾸준...   \n",
       "1  우울증이랑 강박증을 오래 앓았습니다 완치를 기대하긴 힘든가요 완치가 안 된다면 꾸준...   \n",
       "2  하루가멀다하고 술을마십니다낼부터는 술안마신다고하고 그날저녁에 또 마시고 담날도 마시...   \n",
       "3  하루가멀다하고 술을마십니다낼부터는 술안마신다고하고 그날저녁에 또 마시고 담날도 마시...   \n",
       "4  하루가멀다하고 술을마십니다낼부터는 술안마신다고하고 그날저녁에 또 마시고 담날도 마시...   \n",
       "\n",
       "                                              answer  \n",
       "0  정신과적 약물치료와 상담 및 적절한 신체적인 운동을 통해 건강한 심신의 상태가 오래...  \n",
       "1  강박의 경우 치료경과에 대한 부정적인 생각에 증상적으로 집착하는 부분이 있어 그런 ...  \n",
       "2  중독의 심리적 기준은 자기 스스로 얼마나 조절감을 잃었는지의 여부이고 생물학적인 기...  \n",
       "3  그 외 사회활동을 제대로 하는지와 가까운 사람들과의 대인관계상 문제 등이 기준으로 ...  \n",
       "4               보다 정확한 평가는 정신건강의학과 전문의와의 대면상담이 필요합니다  "
      ]
     },
     "execution_count": 83,
     "metadata": {},
     "output_type": "execute_result"
    }
   ],
   "source": [
    "new_data_final = pd.DataFrame(data = {'question': new_new_question, 'answer' : new_new_answer}, columns = ['question', 'answer'])\n",
    "new_data_final.head()"
   ]
  },
  {
   "cell_type": "code",
   "execution_count": 84,
   "metadata": {},
   "outputs": [
    {
     "data": {
      "text/plain": [
       "question    0\n",
       "answer      0\n",
       "dtype: int64"
      ]
     },
     "execution_count": 84,
     "metadata": {},
     "output_type": "execute_result"
    }
   ],
   "source": [
    "new_data_final.isnull().sum()"
   ]
  },
  {
   "cell_type": "code",
   "execution_count": 85,
   "metadata": {},
   "outputs": [],
   "source": [
    "new_data_final.to_csv('expert_naver.txt', sep = '\\t', index = False,header= False)"
   ]
  }
 ],
 "metadata": {
  "kernelspec": {
   "display_name": "Python 3",
   "language": "python",
   "name": "python3"
  },
  "language_info": {
   "codemirror_mode": {
    "name": "ipython",
    "version": 3
   },
   "file_extension": ".py",
   "mimetype": "text/x-python",
   "name": "python",
   "nbconvert_exporter": "python",
   "pygments_lexer": "ipython3",
   "version": "3.8.5"
  },
  "toc": {
   "base_numbering": 1,
   "nav_menu": {},
   "number_sections": true,
   "sideBar": true,
   "skip_h1_title": false,
   "title_cell": "Table of Contents",
   "title_sidebar": "Contents",
   "toc_cell": false,
   "toc_position": {},
   "toc_section_display": true,
   "toc_window_display": false
  }
 },
 "nbformat": 4,
 "nbformat_minor": 4
}
