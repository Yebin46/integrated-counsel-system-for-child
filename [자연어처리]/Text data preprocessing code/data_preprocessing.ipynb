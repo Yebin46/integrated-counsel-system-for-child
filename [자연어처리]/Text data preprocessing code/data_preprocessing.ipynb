{
 "cells": [
  {
   "cell_type": "markdown",
   "id": "israeli-current",
   "metadata": {},
   "source": [
    "### 크롤링한 데이터 불러오기"
   ]
  },
  {
   "cell_type": "code",
   "execution_count": null,
   "id": "aquatic-communication",
   "metadata": {},
   "outputs": [],
   "source": [
    "import pandas as pd\n",
    "csv_result = pd.read_csv(\"./result_123.csv\") "
   ]
  },
  {
   "cell_type": "code",
   "execution_count": null,
   "id": "sudden-darwin",
   "metadata": {},
   "outputs": [],
   "source": [
    "# 필요없는 column 제거\n",
    "csv_result.drop('Unnamed: 0', axis=1, inplace=True)"
   ]
  },
  {
   "cell_type": "markdown",
   "id": "unauthorized-positive",
   "metadata": {},
   "source": [
    "### reply에 컴슬러가 여럿일 경우, 하나씩 나눠서 질문글 복제 ->  다른 df에 저장 -> 합치기"
   ]
  },
  {
   "cell_type": "code",
   "execution_count": null,
   "id": "level-november",
   "metadata": {
    "scrolled": true
   },
   "outputs": [],
   "source": [
    "import string\n",
    "import numpy as np\n",
    "from ast import literal_eval\n",
    "f_list = []\n",
    "for i in range(26):\n",
    "    upper = string.ascii_uppercase[i]\n",
    "    find = '컴슬러' + upper\n",
    "    f_list.append(find)\n",
    "new_list = []\n",
    "# couns = []\n",
    "one_reply=[]\n",
    "for k in range(csv_result.shape[0]):\n",
    "    dict_reply = literal_eval(csv_result.iloc[k,1])\n",
    "    if str(dict_reply) == '{}':\n",
    "        new_list.append(csv_result.iloc[k,0])\n",
    "        one_reply.append('{}')\n",
    "    else:\n",
    "        len_reply = len(dict_reply)\n",
    "\n",
    "        for m in range(len_reply):\n",
    "            new_list.append(np.repeat(csv_result.iloc[k,0],len_reply)[m])\n",
    "\n",
    "        for key, value in dict_reply.items():\n",
    "            # couns.append(key)  # couns는 필요X\n",
    "            one_reply.append(value)\n",
    "\n",
    "one_reply2=[]\n",
    "for q in range(len(one_reply)):\n",
    "    one_string = one_reply[q][0] \n",
    "    for i in range(len(one_reply[q])-1): \n",
    "        one_string = one_string + one_reply[q][i+1]\n",
    "    one_reply2.append(one_string)\n",
    "new_df = pd.DataFrame(new_list)\n",
    "reply_df = pd.DataFrame(one_reply2)"
   ]
  },
  {
   "cell_type": "code",
   "execution_count": null,
   "id": "million-cancer",
   "metadata": {},
   "outputs": [],
   "source": [
    "df_all = pd.concat([new_df,reply_df], axis=1)\n",
    "df_all.columns = ['concerns','reply']"
   ]
  },
  {
   "cell_type": "markdown",
   "id": "distant-retention",
   "metadata": {},
   "source": [
    "### 특수문자, 필요없는 문자 등 제거"
   ]
  },
  {
   "cell_type": "code",
   "execution_count": null,
   "id": "committed-begin",
   "metadata": {},
   "outputs": [],
   "source": [
    "csv_result['concerns'] = csv_result['concerns'].str.replace(pat=r'[\\n\\t\\t\\t\\t\\t\\t]', repl=r\"\", regex=True)"
   ]
  },
  {
   "cell_type": "code",
   "execution_count": null,
   "id": "stuffed-workshop",
   "metadata": {},
   "outputs": [],
   "source": [
    "# 지우고 싶은 특수문자들 한번에 다 제거할 수 있는 코드\n",
    "\n",
    "char=\"~-+=_\\t\\t\\n'^@#$%&*()xa[]{}/;ㅋㅎㅡ人ㅜㅠ\"  \n",
    "for x in range(len(char)):\n",
    "    df_all['concerns'] = df_all['concerns'].str.replace(char[x],r\" \", regex=True)\n",
    "    df_all['reply'] = df_all['reply'].str.replace(char[x],r\" \", regex=True)\n",
    "df_all\n",
    "\n",
    "csv_result['concerns'] = csv_result['concerns'].str.replace(pat=r'[\\n\\t\\t\\t\\t\\t\\t]', repl=r\"\", regex=True)\n",
    "csv_result"
   ]
  },
  {
   "cell_type": "markdown",
   "id": "thermal-constitutional",
   "metadata": {},
   "source": [
    "### 특정 키워드 포함하는 문장 전체 제거\n",
    "#### 키워드 들어간 문장 전체 제거 후, 온점(.)으로 잇기"
   ]
  },
  {
   "cell_type": "markdown",
   "id": "previous-structure",
   "metadata": {},
   "source": [
    "* 키워드 : 국번없이 , 전화상담, 카카오톡, 문자상담, 사이버 상담, 채팅상담실, 24시간 (운영) 등"
   ]
  },
  {
   "cell_type": "code",
   "execution_count": null,
   "id": "detected-karaoke",
   "metadata": {},
   "outputs": [],
   "source": [
    "import re\n",
    "new_reply = []\n",
    "#save_chat = []\n",
    "for i in range(len(process1)): #행의 개수\n",
    "    sentences = []\n",
    "    sentences=re.findall(r\"[\\w' ]+\", str(process1['reply'][i]))  # 한 cell의 글을 문장 단위로 끊어줌\n",
    "    del_num = []\n",
    "    for j in range(len(sentences)):\n",
    "        each_sentence = sentences[j]\n",
    "        if each_sentence.find(\"문자상담\") > 0:  \n",
    "            print(each_sentence)\n",
    "            del_num.append(j)\n",
    "        else:\n",
    "            pass\n",
    "    x = 0\n",
    "    for k in range(len(del_num)):\n",
    "        if k == 0:   # del_num에 1개 있을 때\n",
    "            del sentences[del_num[k]]\n",
    "        elif k > 0:  # del_num에 2개 이상 있을 때\n",
    "            del sentences[del_num[k]-x]\n",
    "        x = x + 1\n",
    "    join_sen = '.'.join(sentences)\n",
    "    new_reply.append(join_sen)\n",
    "a = pd.DataFrame(new_reply)\n",
    "process1 = pd.concat([concern_col,a], axis=1)\n",
    "# 다시할 떈 process1.columns=['concerns', 'reply'] 추가!"
   ]
  },
  {
   "cell_type": "code",
   "execution_count": null,
   "id": "eastern-religion",
   "metadata": {},
   "outputs": [],
   "source": []
  },
  {
   "cell_type": "code",
   "execution_count": null,
   "id": "smart-vehicle",
   "metadata": {},
   "outputs": [],
   "source": []
  }
 ],
 "metadata": {
  "kernelspec": {
   "display_name": "Python 3",
   "language": "python",
   "name": "python3"
  },
  "language_info": {
   "codemirror_mode": {
    "name": "ipython",
    "version": 3
   },
   "file_extension": ".py",
   "mimetype": "text/x-python",
   "name": "python",
   "nbconvert_exporter": "python",
   "pygments_lexer": "ipython3",
   "version": "3.6.9"
  }
 },
 "nbformat": 4,
 "nbformat_minor": 5
}
